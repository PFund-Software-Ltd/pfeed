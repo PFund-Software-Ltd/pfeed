{
 "cells": [
  {
   "cell_type": "markdown",
   "metadata": {},
   "source": [
    "# Download Historical Data"
   ]
  },
  {
   "cell_type": "code",
   "execution_count": 1,
   "metadata": {},
   "outputs": [
    {
     "data": {
      "text/plain": [
       "'0.0.1.dev12'"
      ]
     },
     "execution_count": 1,
     "metadata": {},
     "output_type": "execute_result"
    }
   ],
   "source": [
    "import pfeed as pe\n",
    "\n",
    "pe.__version__"
   ]
  },
  {
   "cell_type": "markdown",
   "metadata": {},
   "source": [
    "## Download Historical Data from Bybit"
   ]
  },
  {
   "cell_type": "code",
   "execution_count": 12,
   "metadata": {
    "tags": [
     "hide-output",
     "scroll-output"
    ]
   },
   "outputs": [
    {
     "name": "stdout",
     "output_type": "stream",
     "text": [
      "Hint: \n",
      "        You can use the command \"pfeed config --data-path ...\" to set your data path that stores downloaded data.\n",
      "        The current data path is: /Users/stephenyau/pfund.ai/pfeed/.local/data.\n",
      "    \n"
     ]
    },
    {
     "data": {
      "text/html": [
       "<pre style=\"white-space:pre;overflow-x:auto;line-height:normal;font-family:Menlo,'DejaVu Sans Mono',consolas,'Courier New',monospace\"><span style=\"font-weight: bold\">Ray is enabled</span>\n",
       "</pre>\n"
      ],
      "text/plain": [
       "\u001b[1mRay is enabled\u001b[0m\n"
      ]
     },
     "metadata": {},
     "output_type": "display_data"
    },
    {
     "data": {
      "text/html": [
       "<pre style=\"white-space:pre;overflow-x:auto;line-height:normal;font-family:Menlo,'DejaVu Sans Mono',consolas,'Courier New',monospace\"><span style=\"font-weight: bold\">MinIO is disabled</span>\n",
       "</pre>\n"
      ],
      "text/plain": [
       "\u001b[1mMinIO is disabled\u001b[0m\n"
      ]
     },
     "metadata": {},
     "output_type": "display_data"
    },
    {
     "data": {
      "text/html": [
       "<pre style=\"white-space:pre;overflow-x:auto;line-height:normal;font-family:Menlo,'DejaVu Sans Mono',consolas,'Courier New',monospace\"><span style=\"color: #808000; text-decoration-color: #808000; font-weight: bold\">PFeed: downloading historical data from BYBIT, </span><span style=\"color: #808000; text-decoration-color: #808000; font-weight: bold\">start_date</span><span style=\"color: #808000; text-decoration-color: #808000; font-weight: bold\">=</span><span style=\"color: #008000; text-decoration-color: #008000\">'2024-03-01'</span><span style=\"color: #808000; text-decoration-color: #808000; font-weight: bold\"> </span><span style=\"color: #808000; text-decoration-color: #808000; font-weight: bold\">end_date</span><span style=\"color: #808000; text-decoration-color: #808000; font-weight: bold\">=</span><span style=\"color: #008000; text-decoration-color: #008000\">'2024-03-02'</span>\n",
       "</pre>\n"
      ],
      "text/plain": [
       "\u001b[1;33mPFeed: downloading historical data from BYBIT, \u001b[0m\u001b[1;33mstart_date\u001b[0m\u001b[1;33m=\u001b[0m\u001b[32m'2024-03-01'\u001b[0m\u001b[1;33m \u001b[0m\u001b[1;33mend_date\u001b[0m\u001b[1;33m=\u001b[0m\u001b[32m'2024-03-02'\u001b[0m\n"
      ]
     },
     "metadata": {},
     "output_type": "display_data"
    },
    {
     "name": "stderr",
     "output_type": "stream",
     "text": [
      "2024-09-03 23:53:38,020\tINFO worker.py:1781 -- Started a local Ray instance.\n"
     ]
    },
    {
     "name": "stdout",
     "output_type": "stream",
     "text": [
      "Ray's num_cpus is set to 8\n"
     ]
    },
    {
     "name": "stderr",
     "output_type": "stream",
     "text": [
      "Downloading BYBIT historical data by product:   0%|\u001b[32m          \u001b[0m| 0/1 [00:00<?, ?it/s]2024-09-03T23:53:46+0800.552 | INFO | bybit_data | loaded BYBIT data to /Users/stephenyau/pfund.ai/pfeed/.local/data/bybit/historical/minute/BTC_USDT_PERP/BTC_USDT_PERP_2024-03-02.parquet | fn:load_data ln:194\n"
     ]
    },
    {
     "name": "stdout",
     "output_type": "stream",
     "text": [
      "\u001b[36m(_run_task pid=71375)\u001b[0m \u001b[1;31mDisk usage at \u001b[0m\u001b[1;35m/Users/stephenyau/pfund.ai/pfeed/.local/\u001b[0m\u001b[1;95mdata\u001b[0m\u001b[1;31m: \u001b[0m\u001b[1;36m44.8\u001b[0m\u001b[1;31m%\u001b[0m\n"
     ]
    },
    {
     "name": "stderr",
     "output_type": "stream",
     "text": [
      "2024-09-03T23:53:50+0800.508 | INFO | bybit_data | loaded BYBIT data to /Users/stephenyau/pfund.ai/pfeed/.local/data/bybit/historical/minute/BTC_USDT_PERP/BTC_USDT_PERP_2024-03-01.parquet | fn:load_data ln:194\n",
      "Downloading BYBIT BTC_USDT_PERP historical data by batch (batch_size=8): 100%|\u001b[33m██████████\u001b[0m| 1/1 [00:11<00:00, 11.64s/it]\n",
      "Downloading BYBIT historical data by product: 100%|\u001b[32m██████████\u001b[0m| 1/1 [00:11<00:00, 11.64s/it]\n",
      "\u001b[1;93m2024-09-03T23:53:50+0800.526 | WARNING | bybit_data | finished downloading BYBIT historical data to /Users/stephenyau/pfund.ai/pfeed/.local/data | fn:download_historical_data ln:189\u001b[0m\n"
     ]
    },
    {
     "name": "stdout",
     "output_type": "stream",
     "text": [
      "\u001b[36m(_run_task pid=71378)\u001b[0m \u001b[1;31mDisk usage at \u001b[0m\u001b[1;35m/Users/stephenyau/pfund.ai/pfeed/.local/\u001b[0m\u001b[1;95mdata\u001b[0m\u001b[1;31m: \u001b[0m\u001b[1;36m44.8\u001b[0m\u001b[1;31m%\u001b[0m\n"
     ]
    }
   ],
   "source": [
    "pe.bybit.download_historical_data(\n",
    "    products=['BTC_USDT_PERP'],\n",
    "    dtypes=['raw'],  # this will be converted to `raw_tick` implicitly for Bybit\n",
    "    start_date='2024-03-01',\n",
    "    end_date='2024-03-02',\n",
    "    num_cpus=8,  # num_cpus for Ray\n",
    "    use_ray=True,\n",
    "    use_minio=False,\n",
    ")"
   ]
  },
  {
   "cell_type": "markdown",
   "metadata": {},
   "source": [
    "```{note}\n",
    "1. You can also download data in different ways:\n",
    "- pe.download(data_source='bybit', ...)\n",
    "- pe.BybitFeed().download(...)\n",
    "\n",
    "2. If you do not need the raw data, you can download the resampled data directly by specifying the `dtypes` argument. e.g. `dtypes=['minute']` will download 1-minute data.\n",
    "```"
   ]
  },
  {
   "cell_type": "markdown",
   "metadata": {},
   "source": [
    "Now you can get your downloaded raw data locally by creating a Feed object:\n",
    "> if the data has not been downloaded, it will be downloaded on the fly automatically."
   ]
  },
  {
   "cell_type": "code",
   "execution_count": 6,
   "metadata": {
    "tags": [
     "hide-output",
     "scroll-output"
    ]
   },
   "outputs": [
    {
     "name": "stderr",
     "output_type": "stream",
     "text": [
      "2024-09-03T23:35:28+0800.246 | INFO | bybit_data | loaded BYBIT BTC_USDT_PERP 2024-03-01 raw_tick data locally | fn:_get_data_from_local ln:122\n",
      "2024-09-03T23:35:28+0800.762 | INFO | bybit_data | loaded BYBIT BTC_USDT_PERP 2024-03-02 raw_tick data locally | fn:_get_data_from_local ln:122\n"
     ]
    },
    {
     "data": {
      "text/html": [
       "<div>\n",
       "<style scoped>\n",
       "    .dataframe tbody tr th:only-of-type {\n",
       "        vertical-align: middle;\n",
       "    }\n",
       "\n",
       "    .dataframe tbody tr th {\n",
       "        vertical-align: top;\n",
       "    }\n",
       "\n",
       "    .dataframe thead th {\n",
       "        text-align: right;\n",
       "    }\n",
       "</style>\n",
       "<table border=\"1\" class=\"dataframe\">\n",
       "  <thead>\n",
       "    <tr style=\"text-align: right;\">\n",
       "      <th></th>\n",
       "      <th>ts</th>\n",
       "      <th>symbol</th>\n",
       "      <th>side</th>\n",
       "      <th>volume</th>\n",
       "      <th>price</th>\n",
       "      <th>tickDirection</th>\n",
       "      <th>trdMatchID</th>\n",
       "      <th>grossValue</th>\n",
       "      <th>homeNotional</th>\n",
       "      <th>foreignNotional</th>\n",
       "    </tr>\n",
       "  </thead>\n",
       "  <tbody>\n",
       "    <tr>\n",
       "      <th>0</th>\n",
       "      <td>2024-03-01 00:00:00.097599983</td>\n",
       "      <td>BTCUSDT</td>\n",
       "      <td>1</td>\n",
       "      <td>0.003</td>\n",
       "      <td>61184.1</td>\n",
       "      <td>ZeroMinusTick</td>\n",
       "      <td>79ac9a21-0249-5985-b042-906ec7604794</td>\n",
       "      <td>1.835523e+10</td>\n",
       "      <td>0.003</td>\n",
       "      <td>183.5523</td>\n",
       "    </tr>\n",
       "    <tr>\n",
       "      <th>1</th>\n",
       "      <td>2024-03-01 00:00:00.098299980</td>\n",
       "      <td>BTCUSDT</td>\n",
       "      <td>1</td>\n",
       "      <td>0.078</td>\n",
       "      <td>61184.9</td>\n",
       "      <td>PlusTick</td>\n",
       "      <td>2af4e516-8ff4-5955-bb9c-38aa385b7b44</td>\n",
       "      <td>4.772422e+11</td>\n",
       "      <td>0.078</td>\n",
       "      <td>4772.4222</td>\n",
       "    </tr>\n",
       "    <tr>\n",
       "      <th>2</th>\n",
       "      <td>2024-03-01 00:00:00.098299980</td>\n",
       "      <td>BTCUSDT</td>\n",
       "      <td>1</td>\n",
       "      <td>0.070</td>\n",
       "      <td>61185.2</td>\n",
       "      <td>PlusTick</td>\n",
       "      <td>e4ce9cf1-c32b-5a1a-a211-1a16ea160d67</td>\n",
       "      <td>4.282964e+11</td>\n",
       "      <td>0.070</td>\n",
       "      <td>4282.9640</td>\n",
       "    </tr>\n",
       "  </tbody>\n",
       "</table>\n",
       "</div>"
      ],
      "text/plain": [
       "                             ts   symbol  side  volume    price  \\\n",
       "0 2024-03-01 00:00:00.097599983  BTCUSDT     1   0.003  61184.1   \n",
       "1 2024-03-01 00:00:00.098299980  BTCUSDT     1   0.078  61184.9   \n",
       "2 2024-03-01 00:00:00.098299980  BTCUSDT     1   0.070  61185.2   \n",
       "\n",
       "   tickDirection                            trdMatchID    grossValue  \\\n",
       "0  ZeroMinusTick  79ac9a21-0249-5985-b042-906ec7604794  1.835523e+10   \n",
       "1       PlusTick  2af4e516-8ff4-5955-bb9c-38aa385b7b44  4.772422e+11   \n",
       "2       PlusTick  e4ce9cf1-c32b-5a1a-a211-1a16ea160d67  4.282964e+11   \n",
       "\n",
       "   homeNotional  foreignNotional  \n",
       "0         0.003         183.5523  \n",
       "1         0.078        4772.4222  \n",
       "2         0.070        4282.9640  "
      ]
     },
     "execution_count": 6,
     "metadata": {},
     "output_type": "execute_result"
    }
   ],
   "source": [
    "bybit_feed = pe.BybitFeed()\n",
    "raw_df = bybit_feed.get_historical_data(\n",
    "    product='BTC_USDT_PERP',\n",
    "    resolution='raw',\n",
    "    start_date='2024-03-01',\n",
    "    end_date='2024-03-02',\n",
    ")\n",
    "raw_df.head(3)"
   ]
  },
  {
   "cell_type": "markdown",
   "metadata": {},
   "source": [
    "## Resample Data"
   ]
  },
  {
   "cell_type": "markdown",
   "metadata": {},
   "source": [
    "You can resample the downloaded raw data to other resolutions by specifying the `resolution` argument, e.g. 1m or 1minute for 1-minute data."
   ]
  },
  {
   "cell_type": "code",
   "execution_count": 11,
   "metadata": {},
   "outputs": [
    {
     "name": "stderr",
     "output_type": "stream",
     "text": [
      "2024-09-03T23:53:13+0800.158 | INFO | bybit_data | No local BYBIT data found with dtype='minute', switched to find \"raw_tick\" data instead | fn:_get_data_from_local ln:116\n",
      "2024-09-03T23:53:13+0800.159 | INFO | bybit_data | loaded BYBIT BTC_USDT_PERP 2024-03-01 raw_tick data locally | fn:_get_data_from_local ln:122\n"
     ]
    },
    {
     "name": "stderr",
     "output_type": "stream",
     "text": [
      "2024-09-03T23:53:13+0800.907 | INFO | bybit_data | resampled BYBIT raw tick  data to resolution=1m | fn:_transform_raw_data_to_dtype ln:49\n",
      "2024-09-03T23:53:13+0800.927 | INFO | bybit_data | No local BYBIT data found with dtype='minute', switched to find \"raw_tick\" data instead | fn:_get_data_from_local ln:116\n",
      "2024-09-03T23:53:13+0800.928 | INFO | bybit_data | loaded BYBIT BTC_USDT_PERP 2024-03-02 raw_tick data locally | fn:_get_data_from_local ln:122\n",
      "2024-09-03T23:53:14+0800.595 | INFO | bybit_data | resampled BYBIT raw tick  data to resolution=1m | fn:_transform_raw_data_to_dtype ln:49\n"
     ]
    },
    {
     "data": {
      "text/html": [
       "<div>\n",
       "<style scoped>\n",
       "    .dataframe tbody tr th:only-of-type {\n",
       "        vertical-align: middle;\n",
       "    }\n",
       "\n",
       "    .dataframe tbody tr th {\n",
       "        vertical-align: top;\n",
       "    }\n",
       "\n",
       "    .dataframe thead th {\n",
       "        text-align: right;\n",
       "    }\n",
       "</style>\n",
       "<table border=\"1\" class=\"dataframe\">\n",
       "  <thead>\n",
       "    <tr style=\"text-align: right;\">\n",
       "      <th></th>\n",
       "      <th>ts</th>\n",
       "      <th>product</th>\n",
       "      <th>resolution</th>\n",
       "      <th>open</th>\n",
       "      <th>high</th>\n",
       "      <th>low</th>\n",
       "      <th>close</th>\n",
       "      <th>volume</th>\n",
       "    </tr>\n",
       "  </thead>\n",
       "  <tbody>\n",
       "    <tr>\n",
       "      <th>0</th>\n",
       "      <td>2024-03-01 00:00:00</td>\n",
       "      <td>BTC_USDT_PERP</td>\n",
       "      <td>1m</td>\n",
       "      <td>61184.1</td>\n",
       "      <td>61244.5</td>\n",
       "      <td>61175.8</td>\n",
       "      <td>61244.5</td>\n",
       "      <td>159.142</td>\n",
       "    </tr>\n",
       "    <tr>\n",
       "      <th>1</th>\n",
       "      <td>2024-03-01 00:01:00</td>\n",
       "      <td>BTC_USDT_PERP</td>\n",
       "      <td>1m</td>\n",
       "      <td>61245.3</td>\n",
       "      <td>61276.5</td>\n",
       "      <td>61200.7</td>\n",
       "      <td>61232.2</td>\n",
       "      <td>227.242</td>\n",
       "    </tr>\n",
       "    <tr>\n",
       "      <th>2</th>\n",
       "      <td>2024-03-01 00:02:00</td>\n",
       "      <td>BTC_USDT_PERP</td>\n",
       "      <td>1m</td>\n",
       "      <td>61232.2</td>\n",
       "      <td>61249.0</td>\n",
       "      <td>61180.0</td>\n",
       "      <td>61184.2</td>\n",
       "      <td>91.446</td>\n",
       "    </tr>\n",
       "  </tbody>\n",
       "</table>\n",
       "</div>"
      ],
      "text/plain": [
       "                   ts        product resolution     open     high      low  \\\n",
       "0 2024-03-01 00:00:00  BTC_USDT_PERP         1m  61184.1  61244.5  61175.8   \n",
       "1 2024-03-01 00:01:00  BTC_USDT_PERP         1m  61245.3  61276.5  61200.7   \n",
       "2 2024-03-01 00:02:00  BTC_USDT_PERP         1m  61232.2  61249.0  61180.0   \n",
       "\n",
       "     close   volume  \n",
       "0  61244.5  159.142  \n",
       "1  61232.2  227.242  \n",
       "2  61184.2   91.446  "
      ]
     },
     "execution_count": 11,
     "metadata": {},
     "output_type": "execute_result"
    }
   ],
   "source": [
    "minute_df = bybit_feed.get_historical_data(\n",
    "    product='BTC_USDT_PERP',\n",
    "    resolution='1m',\n",
    "    start_date='2024-03-01',\n",
    "    end_date='2024-03-02',\n",
    ")\n",
    "minute_df.head(3)"
   ]
  }
 ],
 "metadata": {
  "kernelspec": {
   "display_name": "pfeed",
   "language": "python",
   "name": "python3"
  },
  "language_info": {
   "codemirror_mode": {
    "name": "ipython",
    "version": 3
   },
   "file_extension": ".py",
   "mimetype": "text/x-python",
   "name": "python",
   "nbconvert_exporter": "python",
   "pygments_lexer": "ipython3",
   "version": "3.11.7"
  }
 },
 "nbformat": 4,
 "nbformat_minor": 2
}
