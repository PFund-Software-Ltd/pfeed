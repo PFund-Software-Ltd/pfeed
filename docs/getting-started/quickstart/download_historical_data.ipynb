{
 "cells": [
  {
   "cell_type": "markdown",
   "metadata": {},
   "source": [
    "# Download Historical Data"
   ]
  },
  {
   "cell_type": "code",
   "execution_count": 1,
   "metadata": {
    "execution": {
     "iopub.execute_input": "2024-10-11T12:46:24.570185Z",
     "iopub.status.busy": "2024-10-11T12:46:24.570056Z",
     "iopub.status.idle": "2024-10-11T12:46:24.700421Z",
     "shell.execute_reply": "2024-10-11T12:46:24.700061Z"
    }
   },
   "outputs": [
    {
     "data": {
      "text/plain": [
       "'0.0.2'"
      ]
     },
     "execution_count": 1,
     "metadata": {},
     "output_type": "execute_result"
    }
   ],
   "source": [
    "import pfeed as pe\n",
    "\n",
    "pe.__version__"
   ]
  },
  {
   "cell_type": "code",
   "execution_count": 3,
   "metadata": {},
   "outputs": [],
   "source": [
    "bybit_feed = pe.BybitFeed(data_tool='polars', use_ray=True, use_deltalake=True)"
   ]
  },
  {
   "cell_type": "markdown",
   "metadata": {},
   "source": [
    "## Download Historical Data from Bybit"
   ]
  },
  {
   "cell_type": "markdown",
   "metadata": {},
   "source": [
    "> if MinIO is not running, you can start it by running `pfeed docker-compose up -d minio` for convenience."
   ]
  },
  {
   "cell_type": "code",
   "execution_count": 4,
   "metadata": {
    "execution": {
     "iopub.execute_input": "2024-10-11T12:46:24.720373Z",
     "iopub.status.busy": "2024-10-11T12:46:24.720204Z",
     "iopub.status.idle": "2024-10-11T12:47:08.928038Z",
     "shell.execute_reply": "2024-10-11T12:47:08.927293Z"
    },
    "tags": [
     "hide-output",
     "scroll-output"
    ]
   },
   "outputs": [
    {
     "data": {
      "text/html": [
       "<pre style=\"white-space:pre;overflow-x:auto;line-height:normal;font-family:Menlo,'DejaVu Sans Mono',consolas,'Courier New',monospace\"><span style=\"color: #808000; text-decoration-color: #808000; font-weight: bold\">Downloading historical 1_TICK data from BYBIT, from </span><span style=\"color: #008080; text-decoration-color: #008080; font-weight: bold\">2025</span><span style=\"color: #808000; text-decoration-color: #808000; font-weight: bold\">-</span><span style=\"color: #008080; text-decoration-color: #008080; font-weight: bold\">01</span><span style=\"color: #808000; text-decoration-color: #808000; font-weight: bold\">-</span><span style=\"color: #008080; text-decoration-color: #008080; font-weight: bold\">01</span><span style=\"color: #808000; text-decoration-color: #808000; font-weight: bold\"> to </span><span style=\"color: #008080; text-decoration-color: #008080; font-weight: bold\">2025</span><span style=\"color: #808000; text-decoration-color: #808000; font-weight: bold\">-</span><span style=\"color: #008080; text-decoration-color: #008080; font-weight: bold\">01</span><span style=\"color: #808000; text-decoration-color: #808000; font-weight: bold\">-</span><span style=\"color: #008080; text-decoration-color: #008080; font-weight: bold\">02</span><span style=\"color: #808000; text-decoration-color: #808000; font-weight: bold\"> (UTC), </span><span style=\"color: #808000; text-decoration-color: #808000; font-weight: bold\">data_layer</span><span style=\"color: #808000; text-decoration-color: #808000; font-weight: bold\">=</span><span style=\"color: #008000; text-decoration-color: #008000\">'cleaned'</span>\n",
       "</pre>\n"
      ],
      "text/plain": [
       "\u001b[1;33mDownloading historical 1_TICK data from BYBIT, from \u001b[0m\u001b[1;36m2025\u001b[0m\u001b[1;33m-\u001b[0m\u001b[1;36m01\u001b[0m\u001b[1;33m-\u001b[0m\u001b[1;36m01\u001b[0m\u001b[1;33m to \u001b[0m\u001b[1;36m2025\u001b[0m\u001b[1;33m-\u001b[0m\u001b[1;36m01\u001b[0m\u001b[1;33m-\u001b[0m\u001b[1;36m02\u001b[0m\u001b[1;33m \u001b[0m\u001b[1;33m(\u001b[0m\u001b[1;33mUTC\u001b[0m\u001b[1;33m)\u001b[0m\u001b[1;33m, \u001b[0m\u001b[1;33mdata_layer\u001b[0m\u001b[1;33m=\u001b[0m\u001b[32m'cleaned'\u001b[0m\n"
      ]
     },
     "metadata": {},
     "output_type": "display_data"
    },
    {
     "name": "stderr",
     "output_type": "stream",
     "text": [
      "2025-02-03 14:44:39,243\tINFO worker.py:1841 -- Started a local Ray instance.\n",
      "Running BYBIT dataflows:   0%|\u001b[38;2;191;97;51m          \u001b[0m| 0/1 [00:00<?, ?it/s]\u001b[1;91m2025-02-03T14:44:50+0800.123 | ERROR | bybit_data | Failed to write data (type=<class 'polars.lazyframe.frame.LazyFrame'>) to MINIO\n",
      "Traceback (most recent call last):\n",
      "  File \"/Users/stephenyau/pfund.ai/pfeed/pfeed/storages/base_storage.py\", line 140, in write_data\n",
      "    self.data_handler.write(data)\n",
      "  File \"/Users/stephenyau/pfund.ai/pfeed/pfeed/data_handlers/market_data_handler.py\", line 68, in write\n",
      "    self._io.write(\n",
      "  File \"/Users/stephenyau/pfund.ai/pfeed/pfeed/io/tabular_io.py\", line 34, in write\n",
      "    dl.write_deltalake(file_path_without_filename, data, mode='overwrite', storage_options=self._storage_options)\n",
      "  File \"/Users/stephenyau/micromamba/envs/pfeed/lib/python3.11/site-packages/deltalake/writer.py\", line 298, in write_deltalake\n",
      "    table, table_uri = try_get_table_and_table_uri(table_or_uri, storage_options)\n",
      "                       ^^^^^^^^^^^^^^^^^^^^^^^^^^^^^^^^^^^^^^^^^^^^^^^^^^^^^^^^^^\n",
      "  File \"/Users/stephenyau/micromamba/envs/pfeed/lib/python3.11/site-packages/deltalake/writer.py\", line 766, in try_get_table_and_table_uri\n",
      "    table = try_get_deltatable(table_or_uri, storage_options)\n",
      "            ^^^^^^^^^^^^^^^^^^^^^^^^^^^^^^^^^^^^^^^^^^^^^^^^^\n",
      "  File \"/Users/stephenyau/micromamba/envs/pfeed/lib/python3.11/site-packages/deltalake/writer.py\", line 779, in try_get_deltatable\n",
      "    return DeltaTable(table_uri, storage_options=storage_options)\n",
      "           ^^^^^^^^^^^^^^^^^^^^^^^^^^^^^^^^^^^^^^^^^^^^^^^^^^^^^^\n",
      "  File \"/Users/stephenyau/micromamba/envs/pfeed/lib/python3.11/site-packages/deltalake/table.py\", line 418, in __init__\n",
      "    self._table = RawDeltaTable(\n",
      "                  ^^^^^^^^^^^^^^\n",
      "OSError: Generic S3 error: Error after 0 retries in 186.25µs, max_retries:10, retry_timeout:180s, source:builder error for url (http://localhost:9000/pfeed/cleaned/market_data/BACKTEST/BYBIT/BYBIT/PERP/BTC_USDT_PERP/1_TICK/2025/01/02/_delta_log/_last_checkpoint) | base_storage.py fn:write_data ln:143\u001b[0m\n",
      "\u001b[1;93m2025-02-03T14:44:50+0800.133 | WARNING | bybit_data | failed to load BYBIT:2025-01-01:CRYPTO:BYBIT:BTC_USDT_PERP:1_TICK data to storage | dataflow.py fn:_load ln:148\u001b[0m\n",
      "\u001b[1;91m2025-02-03T14:44:50+0800.844 | ERROR | bybit_data | Failed to write data (type=<class 'polars.lazyframe.frame.LazyFrame'>) to MINIO\n",
      "Traceback (most recent call last):\n",
      "  File \"/Users/stephenyau/pfund.ai/pfeed/pfeed/storages/base_storage.py\", line 140, in write_data\n",
      "    self.data_handler.write(data)\n",
      "  File \"/Users/stephenyau/pfund.ai/pfeed/pfeed/data_handlers/market_data_handler.py\", line 68, in write\n",
      "    self._io.write(\n",
      "  File \"/Users/stephenyau/pfund.ai/pfeed/pfeed/io/tabular_io.py\", line 34, in write\n",
      "    dl.write_deltalake(file_path_without_filename, data, mode='overwrite', storage_options=self._storage_options)\n",
      "  File \"/Users/stephenyau/micromamba/envs/pfeed/lib/python3.11/site-packages/deltalake/writer.py\", line 298, in write_deltalake\n",
      "    table, table_uri = try_get_table_and_table_uri(table_or_uri, storage_options)\n",
      "                       ^^^^^^^^^^^^^^^^^^^^^^^^^^^^^^^^^^^^^^^^^^^^^^^^^^^^^^^^^^\n",
      "  File \"/Users/stephenyau/micromamba/envs/pfeed/lib/python3.11/site-packages/deltalake/writer.py\", line 766, in try_get_table_and_table_uri\n",
      "    table = try_get_deltatable(table_or_uri, storage_options)\n",
      "            ^^^^^^^^^^^^^^^^^^^^^^^^^^^^^^^^^^^^^^^^^^^^^^^^^\n",
      "  File \"/Users/stephenyau/micromamba/envs/pfeed/lib/python3.11/site-packages/deltalake/writer.py\", line 779, in try_get_deltatable\n",
      "    return DeltaTable(table_uri, storage_options=storage_options)\n",
      "           ^^^^^^^^^^^^^^^^^^^^^^^^^^^^^^^^^^^^^^^^^^^^^^^^^^^^^^\n",
      "  File \"/Users/stephenyau/micromamba/envs/pfeed/lib/python3.11/site-packages/deltalake/table.py\", line 418, in __init__\n",
      "    self._table = RawDeltaTable(\n",
      "                  ^^^^^^^^^^^^^^\n",
      "OSError: Generic S3 error: Error after 0 retries in 5.291µs, max_retries:10, retry_timeout:180s, source:builder error for url (http://localhost:9000/pfeed/cleaned/market_data/BACKTEST/BYBIT/BYBIT/PERP/BTC_USDT_PERP/1_TICK/2025/01/02/_delta_log/_last_checkpoint) | base_storage.py fn:write_data ln:143\u001b[0m\n",
      "\u001b[1;93m2025-02-03T14:44:50+0800.858 | WARNING | bybit_data | failed to load BYBIT:2025-01-02:CRYPTO:BYBIT:BTC_USDT_PERP:1_TICK data to storage | dataflow.py fn:_load ln:148\u001b[0m\n",
      "Running BYBIT dataflows: 100%|\u001b[38;2;191;97;51m██████████\u001b[0m| 1/1 [00:11<00:00, 11.64s/it]\n"
     ]
    },
    {
     "data": {
      "text/html": [
       "<i>naive plan: (run <b>LazyFrame.explain(optimized=True)</b> to see the optimized plan)</i>\n",
       "    <p></p>\n",
       "    <div>UNION<p></p>  PLAN 0:<p></p>    DF [\"ts\", \"resolution\", \"product\", \"symbol\"]; PROJECT */12 COLUMNS<p></p>  PLAN 1:<p></p>    DF [\"ts\", \"resolution\", \"product\", \"symbol\"]; PROJECT */12 COLUMNS<p></p>END UNION</div>"
      ],
      "text/plain": [
       "<LazyFrame at 0x324968090>"
      ]
     },
     "execution_count": 4,
     "metadata": {},
     "output_type": "execute_result"
    }
   ],
   "source": [
    "bybit_feed.download(\n",
    "    product='BTC_USDT_PERP',\n",
    "    resolution='1tick',\n",
    "    start_date='2025-01-01',\n",
    "    end_date='2025-01-02',\n",
    "    to_storage='minio'\n",
    ")"
   ]
  },
  {
   "cell_type": "markdown",
   "metadata": {},
   "source": [
    "```{note}\n",
    "1. You can also download data in different ways:\n",
    "- pe.download(data_source='bybit', ...)\n",
    "- pe.BybitFeed().download(...)\n",
    "\n",
    "2. If you do not need the raw data, you can download the resampled data directly by specifying the `dtypes` argument. e.g. `dtypes=['minute']` will download 1-minute data.\n",
    "```"
   ]
  },
  {
   "cell_type": "markdown",
   "metadata": {},
   "source": [
    "Now you can get your downloaded raw data locally by creating a Feed object:\n",
    "> if the data has not been downloaded, it will be downloaded on the fly automatically."
   ]
  },
  {
   "cell_type": "code",
   "execution_count": 3,
   "metadata": {
    "execution": {
     "iopub.execute_input": "2024-10-11T12:47:08.934901Z",
     "iopub.status.busy": "2024-10-11T12:47:08.933410Z",
     "iopub.status.idle": "2024-10-11T12:47:09.728701Z",
     "shell.execute_reply": "2024-10-11T12:47:09.728403Z"
    },
    "tags": [
     "hide-output",
     "scroll-output"
    ]
   },
   "outputs": [
    {
     "data": {
      "text/html": [
       "<div>\n",
       "<style scoped>\n",
       "    .dataframe tbody tr th:only-of-type {\n",
       "        vertical-align: middle;\n",
       "    }\n",
       "\n",
       "    .dataframe tbody tr th {\n",
       "        vertical-align: top;\n",
       "    }\n",
       "\n",
       "    .dataframe thead th {\n",
       "        text-align: right;\n",
       "    }\n",
       "</style>\n",
       "<table border=\"1\" class=\"dataframe\">\n",
       "  <thead>\n",
       "    <tr style=\"text-align: right;\">\n",
       "      <th></th>\n",
       "      <th>ts</th>\n",
       "      <th>symbol</th>\n",
       "      <th>side</th>\n",
       "      <th>volume</th>\n",
       "      <th>price</th>\n",
       "      <th>tickDirection</th>\n",
       "      <th>trdMatchID</th>\n",
       "      <th>grossValue</th>\n",
       "      <th>homeNotional</th>\n",
       "      <th>foreignNotional</th>\n",
       "    </tr>\n",
       "  </thead>\n",
       "  <tbody>\n",
       "    <tr>\n",
       "      <th>0</th>\n",
       "      <td>2024-03-01 00:00:00.097599983</td>\n",
       "      <td>BTCUSDT</td>\n",
       "      <td>1</td>\n",
       "      <td>0.003</td>\n",
       "      <td>61184.1</td>\n",
       "      <td>ZeroMinusTick</td>\n",
       "      <td>79ac9a21-0249-5985-b042-906ec7604794</td>\n",
       "      <td>1.835523e+10</td>\n",
       "      <td>0.003</td>\n",
       "      <td>183.5523</td>\n",
       "    </tr>\n",
       "    <tr>\n",
       "      <th>1</th>\n",
       "      <td>2024-03-01 00:00:00.098299980</td>\n",
       "      <td>BTCUSDT</td>\n",
       "      <td>1</td>\n",
       "      <td>0.078</td>\n",
       "      <td>61184.9</td>\n",
       "      <td>PlusTick</td>\n",
       "      <td>2af4e516-8ff4-5955-bb9c-38aa385b7b44</td>\n",
       "      <td>4.772422e+11</td>\n",
       "      <td>0.078</td>\n",
       "      <td>4772.4222</td>\n",
       "    </tr>\n",
       "    <tr>\n",
       "      <th>2</th>\n",
       "      <td>2024-03-01 00:00:00.098299980</td>\n",
       "      <td>BTCUSDT</td>\n",
       "      <td>1</td>\n",
       "      <td>0.070</td>\n",
       "      <td>61185.2</td>\n",
       "      <td>PlusTick</td>\n",
       "      <td>e4ce9cf1-c32b-5a1a-a211-1a16ea160d67</td>\n",
       "      <td>4.282964e+11</td>\n",
       "      <td>0.070</td>\n",
       "      <td>4282.9640</td>\n",
       "    </tr>\n",
       "  </tbody>\n",
       "</table>\n",
       "</div>"
      ],
      "text/plain": [
       "                             ts   symbol  side  volume    price  \\\n",
       "0 2024-03-01 00:00:00.097599983  BTCUSDT     1   0.003  61184.1   \n",
       "1 2024-03-01 00:00:00.098299980  BTCUSDT     1   0.078  61184.9   \n",
       "2 2024-03-01 00:00:00.098299980  BTCUSDT     1   0.070  61185.2   \n",
       "\n",
       "   tickDirection                            trdMatchID    grossValue  \\\n",
       "0  ZeroMinusTick  79ac9a21-0249-5985-b042-906ec7604794  1.835523e+10   \n",
       "1       PlusTick  2af4e516-8ff4-5955-bb9c-38aa385b7b44  4.772422e+11   \n",
       "2       PlusTick  e4ce9cf1-c32b-5a1a-a211-1a16ea160d67  4.282964e+11   \n",
       "\n",
       "   homeNotional  foreignNotional  \n",
       "0         0.003         183.5523  \n",
       "1         0.078        4772.4222  \n",
       "2         0.070        4282.9640  "
      ]
     },
     "execution_count": 3,
     "metadata": {},
     "output_type": "execute_result"
    }
   ],
   "source": [
    "raw_df = bybit_feed.get_historical_data(\n",
    "    product='BTC_USDT_PERP',\n",
    "    resolution='raw',\n",
    "    start_date='2024-03-01',\n",
    "    end_date='2024-03-02',\n",
    ")\n",
    "raw_df.head(3)"
   ]
  },
  {
   "cell_type": "markdown",
   "metadata": {},
   "source": [
    "## Resample Data"
   ]
  },
  {
   "cell_type": "markdown",
   "metadata": {},
   "source": [
    "You can resample the downloaded raw data to other resolutions by specifying the `resolution` argument, e.g. 1m or 1minute for 1-minute data."
   ]
  },
  {
   "cell_type": "code",
   "execution_count": 4,
   "metadata": {
    "execution": {
     "iopub.execute_input": "2024-10-11T12:47:09.730417Z",
     "iopub.status.busy": "2024-10-11T12:47:09.730010Z",
     "iopub.status.idle": "2024-10-11T12:47:10.547093Z",
     "shell.execute_reply": "2024-10-11T12:47:10.546811Z"
    }
   },
   "outputs": [
    {
     "data": {
      "text/html": [
       "<div>\n",
       "<style scoped>\n",
       "    .dataframe tbody tr th:only-of-type {\n",
       "        vertical-align: middle;\n",
       "    }\n",
       "\n",
       "    .dataframe tbody tr th {\n",
       "        vertical-align: top;\n",
       "    }\n",
       "\n",
       "    .dataframe thead th {\n",
       "        text-align: right;\n",
       "    }\n",
       "</style>\n",
       "<table border=\"1\" class=\"dataframe\">\n",
       "  <thead>\n",
       "    <tr style=\"text-align: right;\">\n",
       "      <th></th>\n",
       "      <th>ts</th>\n",
       "      <th>product</th>\n",
       "      <th>resolution</th>\n",
       "      <th>open</th>\n",
       "      <th>high</th>\n",
       "      <th>low</th>\n",
       "      <th>close</th>\n",
       "      <th>volume</th>\n",
       "    </tr>\n",
       "  </thead>\n",
       "  <tbody>\n",
       "    <tr>\n",
       "      <th>0</th>\n",
       "      <td>2024-03-01 00:00:00</td>\n",
       "      <td>BTC_USDT_PERP</td>\n",
       "      <td>1m</td>\n",
       "      <td>61184.1</td>\n",
       "      <td>61244.5</td>\n",
       "      <td>61175.8</td>\n",
       "      <td>61244.5</td>\n",
       "      <td>159.142</td>\n",
       "    </tr>\n",
       "    <tr>\n",
       "      <th>1</th>\n",
       "      <td>2024-03-01 00:01:00</td>\n",
       "      <td>BTC_USDT_PERP</td>\n",
       "      <td>1m</td>\n",
       "      <td>61245.3</td>\n",
       "      <td>61276.5</td>\n",
       "      <td>61200.7</td>\n",
       "      <td>61232.2</td>\n",
       "      <td>227.242</td>\n",
       "    </tr>\n",
       "    <tr>\n",
       "      <th>2</th>\n",
       "      <td>2024-03-01 00:02:00</td>\n",
       "      <td>BTC_USDT_PERP</td>\n",
       "      <td>1m</td>\n",
       "      <td>61232.2</td>\n",
       "      <td>61249.0</td>\n",
       "      <td>61180.0</td>\n",
       "      <td>61184.2</td>\n",
       "      <td>91.446</td>\n",
       "    </tr>\n",
       "  </tbody>\n",
       "</table>\n",
       "</div>"
      ],
      "text/plain": [
       "                   ts        product resolution     open     high      low  \\\n",
       "0 2024-03-01 00:00:00  BTC_USDT_PERP         1m  61184.1  61244.5  61175.8   \n",
       "1 2024-03-01 00:01:00  BTC_USDT_PERP         1m  61245.3  61276.5  61200.7   \n",
       "2 2024-03-01 00:02:00  BTC_USDT_PERP         1m  61232.2  61249.0  61180.0   \n",
       "\n",
       "     close   volume  \n",
       "0  61244.5  159.142  \n",
       "1  61232.2  227.242  \n",
       "2  61184.2   91.446  "
      ]
     },
     "execution_count": 4,
     "metadata": {},
     "output_type": "execute_result"
    }
   ],
   "source": [
    "minute_df = bybit_feed.get_historical_data(\n",
    "    product='BTC_USDT_PERP',\n",
    "    resolution='1m',\n",
    "    start_date='2024-03-01',\n",
    "    end_date='2024-03-02',\n",
    ")\n",
    "minute_df.head(3)"
   ]
  },
  {
   "cell_type": "markdown",
   "metadata": {},
   "source": [
    "```{hint}\n",
    "If Ray appears to be running **sequentially rather than in parallel**, it may be due to **insufficient network bandwidth** for parallel downloads.\n",
    "```"
   ]
  }
 ],
 "metadata": {
  "kernelspec": {
   "display_name": "Python 3",
   "language": "python",
   "name": "python3"
  },
  "language_info": {
   "codemirror_mode": {
    "name": "ipython",
    "version": 3
   },
   "file_extension": ".py",
   "mimetype": "text/x-python",
   "name": "python",
   "nbconvert_exporter": "python",
   "pygments_lexer": "ipython3",
   "version": "3.11.10"
  }
 },
 "nbformat": 4,
 "nbformat_minor": 2
}
