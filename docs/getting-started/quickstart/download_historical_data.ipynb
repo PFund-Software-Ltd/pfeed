{
 "cells": [
  {
   "cell_type": "markdown",
   "metadata": {},
   "source": [
    "# Download Historical Data"
   ]
  },
  {
   "cell_type": "markdown",
   "metadata": {},
   "source": [
    "```{tip}\n",
    "This is a Jupyter Notebook, to accesss/download the `ipynb` file, please click the github/download icon button in the top right corner.\n",
    "```"
   ]
  },
  {
   "cell_type": "code",
   "execution_count": 2,
   "metadata": {},
   "outputs": [
    {
     "name": "stdout",
     "output_type": "stream",
     "text": [
      "loaded config /Users/stephenyau/pfundai/pfund/pfund/config/bybit/config.yml\n"
     ]
    },
    {
     "data": {
      "text/plain": [
       "'0.0.1.dev5'"
      ]
     },
     "execution_count": 2,
     "metadata": {},
     "output_type": "execute_result"
    }
   ],
   "source": [
    "import pfeed as pe\n",
    "\n",
    "pe.__version__"
   ]
  },
  {
   "cell_type": "markdown",
   "metadata": {},
   "source": [
    "## Download Historical Data from Bybit"
   ]
  },
  {
   "cell_type": "code",
   "execution_count": 2,
   "metadata": {
    "tags": [
     "hide-output",
     "scroll-output"
    ]
   },
   "outputs": [
    {
     "name": "stdout",
     "output_type": "stream",
     "text": [
      "Hint: \n",
      "        You can use the command \"pfeed config --data-path ...\" to set your data path that stores downloaded data.\n",
      "        The current data path is: /Users/stephenyau/pfundai/pfeed/.local/data.\n",
      "    \n"
     ]
    },
    {
     "data": {
      "text/html": [
       "<pre style=\"white-space:pre;overflow-x:auto;line-height:normal;font-family:Menlo,'DejaVu Sans Mono',consolas,'Courier New',monospace\"><span style=\"font-weight: bold\">Ray is enabled</span>\n",
       "</pre>\n"
      ],
      "text/plain": [
       "\u001b[1mRay is enabled\u001b[0m\n"
      ]
     },
     "metadata": {},
     "output_type": "display_data"
    },
    {
     "data": {
      "text/html": [
       "<pre style=\"white-space:pre;overflow-x:auto;line-height:normal;font-family:Menlo,'DejaVu Sans Mono',consolas,'Courier New',monospace\"><span style=\"font-weight: bold\">MinIO is disabled</span>\n",
       "</pre>\n"
      ],
      "text/plain": [
       "\u001b[1mMinIO is disabled\u001b[0m\n"
      ]
     },
     "metadata": {},
     "output_type": "display_data"
    },
    {
     "data": {
      "text/html": [
       "<pre style=\"white-space:pre;overflow-x:auto;line-height:normal;font-family:Menlo,'DejaVu Sans Mono',consolas,'Courier New',monospace\"><span style=\"color: #808000; text-decoration-color: #808000; font-weight: bold\">PFeed: downloading historical data from BYBIT, </span><span style=\"color: #808000; text-decoration-color: #808000; font-weight: bold\">start_date</span><span style=\"color: #808000; text-decoration-color: #808000; font-weight: bold\">=</span><span style=\"color: #008000; text-decoration-color: #008000\">'2024-03-01'</span><span style=\"color: #808000; text-decoration-color: #808000; font-weight: bold\"> </span><span style=\"color: #808000; text-decoration-color: #808000; font-weight: bold\">end_date</span><span style=\"color: #808000; text-decoration-color: #808000; font-weight: bold\">=</span><span style=\"color: #008000; text-decoration-color: #008000\">'2024-03-02'</span>\n",
       "</pre>\n"
      ],
      "text/plain": [
       "\u001b[1;33mPFeed: downloading historical data from BYBIT, \u001b[0m\u001b[1;33mstart_date\u001b[0m\u001b[1;33m=\u001b[0m\u001b[32m'2024-03-01'\u001b[0m\u001b[1;33m \u001b[0m\u001b[1;33mend_date\u001b[0m\u001b[1;33m=\u001b[0m\u001b[32m'2024-03-02'\u001b[0m\n"
      ]
     },
     "metadata": {},
     "output_type": "display_data"
    },
    {
     "name": "stderr",
     "output_type": "stream",
     "text": [
      "2024-04-03 02:31:20,372\tINFO worker.py:1752 -- Started a local Ray instance.\n",
      "Downloading BYBIT historical data by product:   0%|\u001b[32m          \u001b[0m| 0/1 [00:00<?, ?it/s]"
     ]
    },
    {
     "name": "stdout",
     "output_type": "stream",
     "text": [
      "\u001b[36m(pid=17885)\u001b[0m loaded config /Users/stephenyau/pfundai/pfund/pfund/config/bybit/config.yml\n",
      "\u001b[36m(_run_task pid=17885)\u001b[0m \u001b[1;31mDisk usage at \u001b[0m\u001b[1;35m/Users/stephenyau/pfundai/pfeed/.local/\u001b[0m\u001b[1;95mdata\u001b[0m\u001b[1;31m: \u001b[0m\u001b[1;36m32.5\u001b[0m\u001b[1;31m%\u001b[0m\n"
     ]
    },
    {
     "name": "stderr",
     "output_type": "stream",
     "text": [
      "Downloading BYBIT BTC_USDT_PERP historical data by batch (batch_size=8): 100%|\u001b[33m██████████\u001b[0m| 1/1 [00:08<00:00,  8.69s/it]\n",
      "Downloading BYBIT historical data by product: 100%|\u001b[32m██████████\u001b[0m| 1/1 [00:08<00:00,  8.69s/it]\n",
      "\u001b[1;93m2024-04-03T02:31:29+0800.978 | WARNING | bybit | finished downloading BYBIT historical data to /Users/stephenyau/pfundai/pfeed/.local/data | fn:download_historical_data ln:172\u001b[0m\n"
     ]
    },
    {
     "name": "stdout",
     "output_type": "stream",
     "text": [
      "\u001b[36m(pid=17887)\u001b[0m loaded config /Users/stephenyau/pfundai/pfund/pfund/config/bybit/config.yml\n"
     ]
    }
   ],
   "source": [
    "pe.bybit.download_historical_data(\n",
    "    pdts=[\n",
    "        'BTC_USDT_PERP',\n",
    "    ],\n",
    "    dtypes=[\n",
    "        'raw',  # this will be converted to `raw_tick` implicitly for Bybit\n",
    "    ],\n",
    "    start_date='2024-03-01',\n",
    "    end_date='2024-03-02',\n",
    "    batch_size=8,  # batch size for Ray\n",
    "    use_ray=True,\n",
    "    use_minio=False,\n",
    ")"
   ]
  },
  {
   "cell_type": "markdown",
   "metadata": {},
   "source": [
    "Now you can get your downloaded raw tick data using `feed`"
   ]
  },
  {
   "cell_type": "code",
   "execution_count": 5,
   "metadata": {
    "tags": [
     "hide-output",
     "scroll-output"
    ]
   },
   "outputs": [
    {
     "name": "stderr",
     "output_type": "stream",
     "text": [
      "2024-04-03T02:37:12+0800.687 | DEBUG | pfeed | extracted BYBIT data from local path bybit/historical/raw_tick/BTC_USDT_PERP/BTC_USDT_PERP_2024-03-01.parquet | fn:extract_data ln:111\n"
     ]
    },
    {
     "name": "stderr",
     "output_type": "stream",
     "text": [
      "2024-04-03T02:37:12+0800.690 | INFO | bybit | loaded BYBIT BTC_USDT_PERP 2024-03-01 raw_tick data locally | fn:get_historical_data ln:94\n",
      "2024-04-03T02:37:13+0800.136 | DEBUG | pfeed | extracted BYBIT data from local path bybit/historical/raw_tick/BTC_USDT_PERP/BTC_USDT_PERP_2024-03-02.parquet | fn:extract_data ln:111\n",
      "2024-04-03T02:37:13+0800.141 | INFO | bybit | loaded BYBIT BTC_USDT_PERP 2024-03-02 raw_tick data locally | fn:get_historical_data ln:94\n"
     ]
    },
    {
     "data": {
      "text/html": [
       "<div>\n",
       "<style scoped>\n",
       "    .dataframe tbody tr th:only-of-type {\n",
       "        vertical-align: middle;\n",
       "    }\n",
       "\n",
       "    .dataframe tbody tr th {\n",
       "        vertical-align: top;\n",
       "    }\n",
       "\n",
       "    .dataframe thead th {\n",
       "        text-align: right;\n",
       "    }\n",
       "</style>\n",
       "<table border=\"1\" class=\"dataframe\">\n",
       "  <thead>\n",
       "    <tr style=\"text-align: right;\">\n",
       "      <th></th>\n",
       "      <th>ts</th>\n",
       "      <th>symbol</th>\n",
       "      <th>side</th>\n",
       "      <th>volume</th>\n",
       "      <th>price</th>\n",
       "      <th>tickDirection</th>\n",
       "      <th>trdMatchID</th>\n",
       "      <th>grossValue</th>\n",
       "      <th>homeNotional</th>\n",
       "      <th>foreignNotional</th>\n",
       "    </tr>\n",
       "  </thead>\n",
       "  <tbody>\n",
       "    <tr>\n",
       "      <th>0</th>\n",
       "      <td>2024-03-01 00:00:00.097599983</td>\n",
       "      <td>BTCUSDT</td>\n",
       "      <td>1</td>\n",
       "      <td>0.003</td>\n",
       "      <td>61184.1</td>\n",
       "      <td>ZeroMinusTick</td>\n",
       "      <td>79ac9a21-0249-5985-b042-906ec7604794</td>\n",
       "      <td>1.835523e+10</td>\n",
       "      <td>0.003</td>\n",
       "      <td>183.5523</td>\n",
       "    </tr>\n",
       "    <tr>\n",
       "      <th>1</th>\n",
       "      <td>2024-03-01 00:00:00.098299980</td>\n",
       "      <td>BTCUSDT</td>\n",
       "      <td>1</td>\n",
       "      <td>0.078</td>\n",
       "      <td>61184.9</td>\n",
       "      <td>PlusTick</td>\n",
       "      <td>2af4e516-8ff4-5955-bb9c-38aa385b7b44</td>\n",
       "      <td>4.772422e+11</td>\n",
       "      <td>0.078</td>\n",
       "      <td>4772.4222</td>\n",
       "    </tr>\n",
       "    <tr>\n",
       "      <th>2</th>\n",
       "      <td>2024-03-01 00:00:00.098299980</td>\n",
       "      <td>BTCUSDT</td>\n",
       "      <td>1</td>\n",
       "      <td>0.070</td>\n",
       "      <td>61185.2</td>\n",
       "      <td>PlusTick</td>\n",
       "      <td>e4ce9cf1-c32b-5a1a-a211-1a16ea160d67</td>\n",
       "      <td>4.282964e+11</td>\n",
       "      <td>0.070</td>\n",
       "      <td>4282.9640</td>\n",
       "    </tr>\n",
       "  </tbody>\n",
       "</table>\n",
       "</div>"
      ],
      "text/plain": [
       "                             ts   symbol  side  volume    price  \\\n",
       "0 2024-03-01 00:00:00.097599983  BTCUSDT     1   0.003  61184.1   \n",
       "1 2024-03-01 00:00:00.098299980  BTCUSDT     1   0.078  61184.9   \n",
       "2 2024-03-01 00:00:00.098299980  BTCUSDT     1   0.070  61185.2   \n",
       "\n",
       "   tickDirection                            trdMatchID    grossValue  \\\n",
       "0  ZeroMinusTick  79ac9a21-0249-5985-b042-906ec7604794  1.835523e+10   \n",
       "1       PlusTick  2af4e516-8ff4-5955-bb9c-38aa385b7b44  4.772422e+11   \n",
       "2       PlusTick  e4ce9cf1-c32b-5a1a-a211-1a16ea160d67  4.282964e+11   \n",
       "\n",
       "   homeNotional  foreignNotional  \n",
       "0         0.003         183.5523  \n",
       "1         0.078        4772.4222  \n",
       "2         0.070        4282.9640  "
      ]
     },
     "execution_count": 5,
     "metadata": {},
     "output_type": "execute_result"
    }
   ],
   "source": [
    "feed = pe.BybitFeed()\n",
    "df = feed.get_historical_data(\n",
    "    pdt='BTC_USDT_PERP',\n",
    "    resolution='raw',\n",
    "    start_date='2024-03-01',\n",
    "    end_date='2024-03-02',\n",
    ")\n",
    "df.head(3)"
   ]
  },
  {
   "cell_type": "markdown",
   "metadata": {},
   "source": [
    "Ideally one should download the raw data so that you can perform any data transformation on it for later research. However, if you are sure that e.g. 1-minute data is enough for you, you can also download it directly."
   ]
  },
  {
   "cell_type": "code",
   "execution_count": 6,
   "metadata": {
    "tags": [
     "hide-output",
     "scroll-output"
    ]
   },
   "outputs": [
    {
     "name": "stdout",
     "output_type": "stream",
     "text": [
      "Hint: \n",
      "        You can use the command \"pfeed config --data-path ...\" to set your data path that stores downloaded data.\n",
      "        The current data path is: /Users/stephenyau/pfundai/pfeed/.local/data.\n",
      "    \n"
     ]
    },
    {
     "data": {
      "text/html": [
       "<pre style=\"white-space:pre;overflow-x:auto;line-height:normal;font-family:Menlo,'DejaVu Sans Mono',consolas,'Courier New',monospace\"><span style=\"font-weight: bold\">Ray is enabled</span>\n",
       "</pre>\n"
      ],
      "text/plain": [
       "\u001b[1mRay is enabled\u001b[0m\n"
      ]
     },
     "metadata": {},
     "output_type": "display_data"
    },
    {
     "data": {
      "text/html": [
       "<pre style=\"white-space:pre;overflow-x:auto;line-height:normal;font-family:Menlo,'DejaVu Sans Mono',consolas,'Courier New',monospace\"><span style=\"font-weight: bold\">MinIO is disabled</span>\n",
       "</pre>\n"
      ],
      "text/plain": [
       "\u001b[1mMinIO is disabled\u001b[0m\n"
      ]
     },
     "metadata": {},
     "output_type": "display_data"
    },
    {
     "data": {
      "text/html": [
       "<pre style=\"white-space:pre;overflow-x:auto;line-height:normal;font-family:Menlo,'DejaVu Sans Mono',consolas,'Courier New',monospace\"><span style=\"color: #808000; text-decoration-color: #808000; font-weight: bold\">PFeed: downloading historical data from BYBIT, </span><span style=\"color: #808000; text-decoration-color: #808000; font-weight: bold\">start_date</span><span style=\"color: #808000; text-decoration-color: #808000; font-weight: bold\">=</span><span style=\"color: #008000; text-decoration-color: #008000\">'2024-03-01'</span><span style=\"color: #808000; text-decoration-color: #808000; font-weight: bold\"> </span><span style=\"color: #808000; text-decoration-color: #808000; font-weight: bold\">end_date</span><span style=\"color: #808000; text-decoration-color: #808000; font-weight: bold\">=</span><span style=\"color: #008000; text-decoration-color: #008000\">'2024-03-02'</span>\n",
       "</pre>\n"
      ],
      "text/plain": [
       "\u001b[1;33mPFeed: downloading historical data from BYBIT, \u001b[0m\u001b[1;33mstart_date\u001b[0m\u001b[1;33m=\u001b[0m\u001b[32m'2024-03-01'\u001b[0m\u001b[1;33m \u001b[0m\u001b[1;33mend_date\u001b[0m\u001b[1;33m=\u001b[0m\u001b[32m'2024-03-02'\u001b[0m\n"
      ]
     },
     "metadata": {},
     "output_type": "display_data"
    },
    {
     "name": "stderr",
     "output_type": "stream",
     "text": [
      "Downloading BYBIT BTC_USDT_PERP historical data by batch (batch_size=8): 100%|\u001b[33m██████████\u001b[0m| 1/1 [00:06<00:00,  6.08s/it]\n",
      "Downloading BYBIT historical data by product: 100%|\u001b[32m██████████\u001b[0m| 1/1 [00:06<00:00,  6.08s/it]\n",
      "\u001b[1;93m2024-04-03T02:44:07+0800.595 | WARNING | bybit | finished downloading BYBIT historical data to /Users/stephenyau/pfundai/pfeed/.local/data | fn:download_historical_data ln:172\u001b[0m\n"
     ]
    },
    {
     "name": "stdout",
     "output_type": "stream",
     "text": [
      "\u001b[36m(_run_task pid=17885)\u001b[0m \u001b[1;31mDisk usage at \u001b[0m\u001b[1;35m/Users/stephenyau/pfundai/pfeed/.local/\u001b[0m\u001b[1;95mdata\u001b[0m\u001b[1;31m: \u001b[0m\u001b[1;36m32.6\u001b[0m\u001b[1;31m%\u001b[0m\n",
      "\u001b[36m(_run_task pid=17887)\u001b[0m \u001b[1;31mDisk usage at \u001b[0m\u001b[1;35m/Users/stephenyau/pfundai/pfeed/.local/\u001b[0m\u001b[1;95mdata\u001b[0m\u001b[1;31m: \u001b[0m\u001b[1;36m32.6\u001b[0m\u001b[1;31m%\u001b[0m\n"
     ]
    }
   ],
   "source": [
    "pe.bybit.download_historical_data(\n",
    "    pdts=[\n",
    "        'BTC_USDT_PERP',\n",
    "    ],\n",
    "    dtypes=[\n",
    "        'minute',  # 1-minute data will be downloaded\n",
    "    ],\n",
    "    start_date='2024-03-01',\n",
    "    end_date='2024-03-02',\n",
    "    batch_size=8,  # batch size for Ray\n",
    "    use_ray=True,\n",
    "    use_minio=False,\n",
    ")"
   ]
  },
  {
   "cell_type": "markdown",
   "metadata": {},
   "source": [
    "Now you can get your downloaded 1-minute data using `feed`"
   ]
  },
  {
   "cell_type": "code",
   "execution_count": 7,
   "metadata": {
    "tags": [
     "hide-output",
     "scroll-output"
    ]
   },
   "outputs": [
    {
     "name": "stderr",
     "output_type": "stream",
     "text": [
      "2024-04-03T02:44:59+0800.863 | INFO | bybit | loaded BYBIT BTC_USDT_PERP 2024-03-01 minute data locally | fn:get_historical_data ln:94\n",
      "2024-04-03T02:44:59+0800.867 | INFO | bybit | loaded BYBIT BTC_USDT_PERP 2024-03-02 minute data locally | fn:get_historical_data ln:94\n"
     ]
    },
    {
     "data": {
      "text/html": [
       "<div>\n",
       "<style scoped>\n",
       "    .dataframe tbody tr th:only-of-type {\n",
       "        vertical-align: middle;\n",
       "    }\n",
       "\n",
       "    .dataframe tbody tr th {\n",
       "        vertical-align: top;\n",
       "    }\n",
       "\n",
       "    .dataframe thead th {\n",
       "        text-align: right;\n",
       "    }\n",
       "</style>\n",
       "<table border=\"1\" class=\"dataframe\">\n",
       "  <thead>\n",
       "    <tr style=\"text-align: right;\">\n",
       "      <th></th>\n",
       "      <th>ts</th>\n",
       "      <th>product</th>\n",
       "      <th>resolution</th>\n",
       "      <th>open</th>\n",
       "      <th>high</th>\n",
       "      <th>low</th>\n",
       "      <th>close</th>\n",
       "      <th>volume</th>\n",
       "    </tr>\n",
       "  </thead>\n",
       "  <tbody>\n",
       "    <tr>\n",
       "      <th>0</th>\n",
       "      <td>2024-03-01 00:00:00</td>\n",
       "      <td>BTC_USDT_PERP</td>\n",
       "      <td>1m</td>\n",
       "      <td>61184.1</td>\n",
       "      <td>61244.5</td>\n",
       "      <td>61175.8</td>\n",
       "      <td>61244.5</td>\n",
       "      <td>159.142</td>\n",
       "    </tr>\n",
       "    <tr>\n",
       "      <th>1</th>\n",
       "      <td>2024-03-01 00:01:00</td>\n",
       "      <td>BTC_USDT_PERP</td>\n",
       "      <td>1m</td>\n",
       "      <td>61245.3</td>\n",
       "      <td>61276.5</td>\n",
       "      <td>61200.7</td>\n",
       "      <td>61232.2</td>\n",
       "      <td>227.242</td>\n",
       "    </tr>\n",
       "    <tr>\n",
       "      <th>2</th>\n",
       "      <td>2024-03-01 00:02:00</td>\n",
       "      <td>BTC_USDT_PERP</td>\n",
       "      <td>1m</td>\n",
       "      <td>61232.2</td>\n",
       "      <td>61249.0</td>\n",
       "      <td>61180.0</td>\n",
       "      <td>61184.2</td>\n",
       "      <td>91.446</td>\n",
       "    </tr>\n",
       "  </tbody>\n",
       "</table>\n",
       "</div>"
      ],
      "text/plain": [
       "                   ts        product resolution     open     high      low  \\\n",
       "0 2024-03-01 00:00:00  BTC_USDT_PERP         1m  61184.1  61244.5  61175.8   \n",
       "1 2024-03-01 00:01:00  BTC_USDT_PERP         1m  61245.3  61276.5  61200.7   \n",
       "2 2024-03-01 00:02:00  BTC_USDT_PERP         1m  61232.2  61249.0  61180.0   \n",
       "\n",
       "     close   volume  \n",
       "0  61244.5  159.142  \n",
       "1  61232.2  227.242  \n",
       "2  61184.2   91.446  "
      ]
     },
     "execution_count": 7,
     "metadata": {},
     "output_type": "execute_result"
    }
   ],
   "source": [
    "df = feed.get_historical_data(\n",
    "    pdt='BTC_USDT_PERP',\n",
    "    resolution='1m',  # 1-minute data\n",
    "    start_date='2024-03-01',\n",
    "    end_date='2024-03-02',\n",
    ")\n",
    "df.head(3)"
   ]
  }
 ],
 "metadata": {
  "kernelspec": {
   "display_name": "pfeed",
   "language": "python",
   "name": "python3"
  },
  "language_info": {
   "codemirror_mode": {
    "name": "ipython",
    "version": 3
   },
   "file_extension": ".py",
   "mimetype": "text/x-python",
   "name": "python",
   "nbconvert_exporter": "python",
   "pygments_lexer": "ipython3",
   "version": "3.11.7"
  }
 },
 "nbformat": 4,
 "nbformat_minor": 2
}
