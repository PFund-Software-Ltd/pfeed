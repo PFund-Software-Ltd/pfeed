{
 "cells": [
  {
   "cell_type": "markdown",
   "metadata": {},
   "source": [
    "# Get Historical Data"
   ]
  },
  {
   "cell_type": "code",
   "execution_count": 1,
   "metadata": {
    "execution": {
     "iopub.execute_input": "2024-10-11T12:46:11.647242Z",
     "iopub.status.busy": "2024-10-11T12:46:11.647062Z",
     "iopub.status.idle": "2024-10-11T12:46:11.740907Z",
     "shell.execute_reply": "2024-10-11T12:46:11.740357Z"
    },
    "tags": []
   },
   "outputs": [
    {
     "data": {
      "text/plain": [
       "'0.0.2'"
      ]
     },
     "execution_count": 1,
     "metadata": {},
     "output_type": "execute_result"
    }
   ],
   "source": [
    "import pfeed as pe\n",
    "\n",
    "pe.__version__"
   ]
  },
  {
   "cell_type": "markdown",
   "metadata": {},
   "source": [
    "## Create Data Feeds"
   ]
  },
  {
   "cell_type": "code",
   "execution_count": 2,
   "metadata": {
    "execution": {
     "iopub.execute_input": "2024-10-11T12:46:11.760496Z",
     "iopub.status.busy": "2024-10-11T12:46:11.760344Z",
     "iopub.status.idle": "2024-10-11T12:46:12.824486Z",
     "shell.execute_reply": "2024-10-11T12:46:12.824141Z"
    },
    "tags": [
     "remove-output"
    ]
   },
   "outputs": [],
   "source": [
    "bybit_feed = pe.BybitFeed(data_tool='polars', use_ray=True)\n",
    "yfinance_feed = pe.YahooFinanceFeed(data_tool='pandas', use_ray=False)"
   ]
  },
  {
   "cell_type": "markdown",
   "metadata": {},
   "source": [
    "## Get Historical Data from Bybit"
   ]
  },
  {
   "cell_type": "code",
   "execution_count": 3,
   "metadata": {
    "execution": {
     "iopub.execute_input": "2024-10-11T12:46:12.826151Z",
     "iopub.status.busy": "2024-10-11T12:46:12.825941Z",
     "iopub.status.idle": "2024-10-11T12:46:13.030554Z",
     "shell.execute_reply": "2024-10-11T12:46:13.030196Z"
    },
    "tags": [
     "scroll-output",
     "remove-output"
    ]
   },
   "outputs": [
    {
     "name": "stdout",
     "output_type": "stream",
     "text": [
      "Note:\n",
      "                If Ray appears to be running sequentially rather than in parallel, it may be due to insufficient network bandwidth for parallel downloads.\n",
      "                \n"
     ]
    },
    {
     "name": "stderr",
     "output_type": "stream",
     "text": [
      "2025-02-02 02:47:07,666\tINFO worker.py:1841 -- Started a local Ray instance.\n",
      "Running BYBIT dataflows: 100%|\u001b[38;2;191;97;51m██████████\u001b[0m| 1/1 [00:02<00:00,  2.27s/it]\n"
     ]
    },
    {
     "data": {
      "text/html": [
       "<pre style=\"white-space:pre;overflow-x:auto;line-height:normal;font-family:Menlo,'DejaVu Sans Mono',consolas,'Courier New',monospace\"><span style=\"color: #808000; text-decoration-color: #808000; font-weight: bold\">Downloading historical 1_MINUTE data from BYBIT, from </span><span style=\"color: #008080; text-decoration-color: #008080; font-weight: bold\">2025</span><span style=\"color: #808000; text-decoration-color: #808000; font-weight: bold\">-</span><span style=\"color: #008080; text-decoration-color: #008080; font-weight: bold\">01</span><span style=\"color: #808000; text-decoration-color: #808000; font-weight: bold\">-</span><span style=\"color: #008080; text-decoration-color: #008080; font-weight: bold\">30</span><span style=\"color: #808000; text-decoration-color: #808000; font-weight: bold\"> to </span><span style=\"color: #008080; text-decoration-color: #008080; font-weight: bold\">2025</span><span style=\"color: #808000; text-decoration-color: #808000; font-weight: bold\">-</span><span style=\"color: #008080; text-decoration-color: #008080; font-weight: bold\">01</span><span style=\"color: #808000; text-decoration-color: #808000; font-weight: bold\">-</span><span style=\"color: #008080; text-decoration-color: #008080; font-weight: bold\">31</span><span style=\"color: #808000; text-decoration-color: #808000; font-weight: bold\"> (UTC), </span><span style=\"color: #808000; text-decoration-color: #808000; font-weight: bold\">data_layer</span><span style=\"color: #808000; text-decoration-color: #808000; font-weight: bold\">=</span><span style=\"color: #008000; text-decoration-color: #008000\">'cleaned'</span>\n",
       "</pre>\n"
      ],
      "text/plain": [
       "\u001b[1;33mDownloading historical 1_MINUTE data from BYBIT, from \u001b[0m\u001b[1;36m2025\u001b[0m\u001b[1;33m-\u001b[0m\u001b[1;36m01\u001b[0m\u001b[1;33m-\u001b[0m\u001b[1;36m30\u001b[0m\u001b[1;33m to \u001b[0m\u001b[1;36m2025\u001b[0m\u001b[1;33m-\u001b[0m\u001b[1;36m01\u001b[0m\u001b[1;33m-\u001b[0m\u001b[1;36m31\u001b[0m\u001b[1;33m \u001b[0m\u001b[1;33m(\u001b[0m\u001b[1;33mUTC\u001b[0m\u001b[1;33m)\u001b[0m\u001b[1;33m, \u001b[0m\u001b[1;33mdata_layer\u001b[0m\u001b[1;33m=\u001b[0m\u001b[32m'cleaned'\u001b[0m\n"
      ]
     },
     "metadata": {},
     "output_type": "display_data"
    },
    {
     "name": "stdout",
     "output_type": "stream",
     "text": [
      "Note:\n",
      "                If Ray appears to be running sequentially rather than in parallel, it may be due to insufficient network bandwidth for parallel downloads.\n",
      "                \n"
     ]
    },
    {
     "name": "stderr",
     "output_type": "stream",
     "text": [
      "2025-02-02 02:47:13,494\tINFO worker.py:1841 -- Started a local Ray instance.\n",
      "Running BYBIT dataflows:   0%|\u001b[38;2;191;97;51m          \u001b[0m| 0/1 [00:00<?, ?it/s]2025-02-02T02:47:18+0800.502 | INFO | bybit_data | loaded BYBIT:2025-01-30:CRYPTO:BYBIT:BTC_USDT_PERP:1_MINUTE data to CACHE | dataflow.py fn:_load ln:150\n",
      "2025-02-02T02:47:19+0800.292 | INFO | bybit_data | loaded BYBIT:2025-01-31:CRYPTO:BYBIT:BTC_USDT_PERP:1_MINUTE data to CACHE | dataflow.py fn:_load ln:150\n",
      "Running BYBIT dataflows: 100%|\u001b[38;2;191;97;51m██████████\u001b[0m| 1/1 [00:05<00:00,  5.36s/it]\n"
     ]
    }
   ],
   "source": [
    "bybit_df = bybit_feed.get_historical_data(\n",
    "    'BTC_USDT_PERP',\n",
    "    rollback_period='2d',  # rollback 2 days\n",
    "    resolution='1m',  # 1-minute data  \n",
    ")"
   ]
  },
  {
   "cell_type": "markdown",
   "metadata": {},
   "source": [
    "By calling just **one line of code** above, now you can play with the clean data returned."
   ]
  },
  {
   "cell_type": "code",
   "execution_count": 4,
   "metadata": {
    "execution": {
     "iopub.execute_input": "2024-10-11T12:46:13.032002Z",
     "iopub.status.busy": "2024-10-11T12:46:13.031891Z",
     "iopub.status.idle": "2024-10-11T12:46:13.056568Z",
     "shell.execute_reply": "2024-10-11T12:46:13.056142Z"
    },
    "tags": []
   },
   "outputs": [
    {
     "data": {
      "text/html": [
       "<div><style>\n",
       ".dataframe > thead > tr,\n",
       ".dataframe > tbody > tr {\n",
       "  text-align: right;\n",
       "  white-space: pre-wrap;\n",
       "}\n",
       "</style>\n",
       "<small>shape: (3, 9)</small><table border=\"1\" class=\"dataframe\"><thead><tr><th>ts</th><th>resolution</th><th>product</th><th>symbol</th><th>open</th><th>high</th><th>low</th><th>close</th><th>volume</th></tr><tr><td>datetime[ns]</td><td>str</td><td>str</td><td>str</td><td>f64</td><td>f64</td><td>f64</td><td>f64</td><td>f64</td></tr></thead><tbody><tr><td>2025-01-31 23:57:00</td><td>&quot;1m&quot;</td><td>&quot;BTC_USDT_PERP&quot;</td><td>&quot;BTCUSDT&quot;</td><td>102350.0</td><td>102377.6</td><td>102345.0</td><td>102345.0</td><td>14.774</td></tr><tr><td>2025-01-31 23:58:00</td><td>&quot;1m&quot;</td><td>&quot;BTC_USDT_PERP&quot;</td><td>&quot;BTCUSDT&quot;</td><td>102345.1</td><td>102374.1</td><td>102345.1</td><td>102374.1</td><td>13.71</td></tr><tr><td>2025-01-31 23:59:00</td><td>&quot;1m&quot;</td><td>&quot;BTC_USDT_PERP&quot;</td><td>&quot;BTCUSDT&quot;</td><td>102374.1</td><td>102377.7</td><td>102343.5</td><td>102377.6</td><td>13.0</td></tr></tbody></table></div>"
      ],
      "text/plain": [
       "shape: (3, 9)\n",
       "┌──────────────┬────────────┬──────────────┬─────────┬───┬──────────┬──────────┬──────────┬────────┐\n",
       "│ ts           ┆ resolution ┆ product      ┆ symbol  ┆ … ┆ high     ┆ low      ┆ close    ┆ volume │\n",
       "│ ---          ┆ ---        ┆ ---          ┆ ---     ┆   ┆ ---      ┆ ---      ┆ ---      ┆ ---    │\n",
       "│ datetime[ns] ┆ str        ┆ str          ┆ str     ┆   ┆ f64      ┆ f64      ┆ f64      ┆ f64    │\n",
       "╞══════════════╪════════════╪══════════════╪═════════╪═══╪══════════╪══════════╪══════════╪════════╡\n",
       "│ 2025-01-31   ┆ 1m         ┆ BTC_USDT_PER ┆ BTCUSDT ┆ … ┆ 102377.6 ┆ 102345.0 ┆ 102345.0 ┆ 14.774 │\n",
       "│ 23:57:00     ┆            ┆ P            ┆         ┆   ┆          ┆          ┆          ┆        │\n",
       "│ 2025-01-31   ┆ 1m         ┆ BTC_USDT_PER ┆ BTCUSDT ┆ … ┆ 102374.1 ┆ 102345.1 ┆ 102374.1 ┆ 13.71  │\n",
       "│ 23:58:00     ┆            ┆ P            ┆         ┆   ┆          ┆          ┆          ┆        │\n",
       "│ 2025-01-31   ┆ 1m         ┆ BTC_USDT_PER ┆ BTCUSDT ┆ … ┆ 102377.7 ┆ 102343.5 ┆ 102377.6 ┆ 13.0   │\n",
       "│ 23:59:00     ┆            ┆ P            ┆         ┆   ┆          ┆          ┆          ┆        │\n",
       "└──────────────┴────────────┴──────────────┴─────────┴───┴──────────┴──────────┴──────────┴────────┘"
      ]
     },
     "execution_count": 4,
     "metadata": {},
     "output_type": "execute_result"
    }
   ],
   "source": [
    "bybit_df.collect().tail(3)"
   ]
  },
  {
   "cell_type": "markdown",
   "metadata": {},
   "source": [
    "## Get Historical Data from Yahoo Finance"
   ]
  },
  {
   "cell_type": "code",
   "execution_count": 5,
   "metadata": {
    "execution": {
     "iopub.execute_input": "2024-10-11T12:46:13.058127Z",
     "iopub.status.busy": "2024-10-11T12:46:13.058007Z",
     "iopub.status.idle": "2024-10-11T12:46:20.917025Z",
     "shell.execute_reply": "2024-10-11T12:46:20.916489Z"
    },
    "tags": [
     "remove-output"
    ]
   },
   "outputs": [
    {
     "name": "stdout",
     "output_type": "stream",
     "text": [
      "Note:\n",
      "                If Ray appears to be running sequentially rather than in parallel, it may be due to insufficient network bandwidth for parallel downloads.\n",
      "                \n"
     ]
    },
    {
     "name": "stderr",
     "output_type": "stream",
     "text": [
      "2025-02-02 02:47:21,743\tINFO worker.py:1841 -- Started a local Ray instance.\n",
      "Running YAHOO_FINANCE dataflows: 100%|\u001b[38;2;103;159;109m██████████\u001b[0m| 3/3 [00:03<00:00,  1.15s/it]\n"
     ]
    },
    {
     "data": {
      "text/html": [
       "<pre style=\"white-space:pre;overflow-x:auto;line-height:normal;font-family:Menlo,'DejaVu Sans Mono',consolas,'Courier New',monospace\"><span style=\"color: #808000; text-decoration-color: #808000; font-weight: bold\">Downloading historical 1_DAY data from YAHOO_FINANCE, from </span><span style=\"color: #008080; text-decoration-color: #008080; font-weight: bold\">2025</span><span style=\"color: #808000; text-decoration-color: #808000; font-weight: bold\">-</span><span style=\"color: #008080; text-decoration-color: #008080; font-weight: bold\">01</span><span style=\"color: #808000; text-decoration-color: #808000; font-weight: bold\">-</span><span style=\"color: #008080; text-decoration-color: #008080; font-weight: bold\">01</span><span style=\"color: #808000; text-decoration-color: #808000; font-weight: bold\"> to </span><span style=\"color: #008080; text-decoration-color: #008080; font-weight: bold\">2025</span><span style=\"color: #808000; text-decoration-color: #808000; font-weight: bold\">-</span><span style=\"color: #008080; text-decoration-color: #008080; font-weight: bold\">01</span><span style=\"color: #808000; text-decoration-color: #808000; font-weight: bold\">-</span><span style=\"color: #008080; text-decoration-color: #008080; font-weight: bold\">31</span><span style=\"color: #808000; text-decoration-color: #808000; font-weight: bold\"> (UTC), </span><span style=\"color: #808000; text-decoration-color: #808000; font-weight: bold\">data_layer</span><span style=\"color: #808000; text-decoration-color: #808000; font-weight: bold\">=</span><span style=\"color: #008000; text-decoration-color: #008000\">'cleaned'</span>\n",
       "</pre>\n"
      ],
      "text/plain": [
       "\u001b[1;33mDownloading historical 1_DAY data from YAHOO_FINANCE, from \u001b[0m\u001b[1;36m2025\u001b[0m\u001b[1;33m-\u001b[0m\u001b[1;36m01\u001b[0m\u001b[1;33m-\u001b[0m\u001b[1;36m01\u001b[0m\u001b[1;33m to \u001b[0m\u001b[1;36m2025\u001b[0m\u001b[1;33m-\u001b[0m\u001b[1;36m01\u001b[0m\u001b[1;33m-\u001b[0m\u001b[1;36m31\u001b[0m\u001b[1;33m \u001b[0m\u001b[1;33m(\u001b[0m\u001b[1;33mUTC\u001b[0m\u001b[1;33m)\u001b[0m\u001b[1;33m, \u001b[0m\u001b[1;33mdata_layer\u001b[0m\u001b[1;33m=\u001b[0m\u001b[32m'cleaned'\u001b[0m\n"
      ]
     },
     "metadata": {},
     "output_type": "display_data"
    },
    {
     "name": "stdout",
     "output_type": "stream",
     "text": [
      "Note:\n",
      "                If Ray appears to be running sequentially rather than in parallel, it may be due to insufficient network bandwidth for parallel downloads.\n",
      "                \n"
     ]
    },
    {
     "name": "stderr",
     "output_type": "stream",
     "text": [
      "2025-02-02 02:47:28,061\tINFO worker.py:1841 -- Started a local Ray instance.\n",
      "Running YAHOO_FINANCE dataflows:   0%|\u001b[38;2;103;159;109m          \u001b[0m| 0/1 [00:00<?, ?it/s]2025-02-02T02:47:31+0800.011 | INFO | yahoo_finance_data | loaded YAHOO_FINANCE:(from)2025-01-01:(to)2025-01-31:YAHOO_FINANCE:TSLA_USD_STK:1_DAY data to CACHE | dataflow.py fn:_load ln:150\n",
      "Running YAHOO_FINANCE dataflows: 100%|\u001b[38;2;103;159;109m██████████\u001b[0m| 1/1 [00:02<00:00,  2.56s/it]\n"
     ]
    }
   ],
   "source": [
    "'''\n",
    "yfinance_feed uses [yfinance](https://github.com/ranaroussi/yfinance) to fetch data, \n",
    "so you can pass in kwargs supported by yfinance.\n",
    "please refer to yfinance's documentation for the supported kwargs\n",
    "'''\n",
    "yfinance_kwargs = {}  \n",
    "yfinance_df = yfinance_feed.get_historical_data(\n",
    "    'TSLA_USD_STK',  # STK = stock\n",
    "    resolution='1d',  # 1-day data\n",
    "    start_date='2025-01-01',\n",
    "    end_date='2025-01-31',\n",
    "    **yfinance_kwargs\n",
    ")"
   ]
  },
  {
   "cell_type": "code",
   "execution_count": 6,
   "metadata": {},
   "outputs": [
    {
     "data": {
      "text/html": [
       "<div>\n",
       "<style scoped>\n",
       "    .dataframe tbody tr th:only-of-type {\n",
       "        vertical-align: middle;\n",
       "    }\n",
       "\n",
       "    .dataframe tbody tr th {\n",
       "        vertical-align: top;\n",
       "    }\n",
       "\n",
       "    .dataframe thead th {\n",
       "        text-align: right;\n",
       "    }\n",
       "</style>\n",
       "<table border=\"1\" class=\"dataframe\">\n",
       "  <thead>\n",
       "    <tr style=\"text-align: right;\">\n",
       "      <th></th>\n",
       "      <th>ts</th>\n",
       "      <th>resolution</th>\n",
       "      <th>product</th>\n",
       "      <th>symbol</th>\n",
       "      <th>open</th>\n",
       "      <th>high</th>\n",
       "      <th>low</th>\n",
       "      <th>close</th>\n",
       "      <th>volume</th>\n",
       "      <th>dividends</th>\n",
       "      <th>splits</th>\n",
       "    </tr>\n",
       "  </thead>\n",
       "  <tbody>\n",
       "    <tr>\n",
       "      <th>0</th>\n",
       "      <td>2025-01-02 05:00:00</td>\n",
       "      <td>1d</td>\n",
       "      <td>TSLA_USD_STK</td>\n",
       "      <td>TSLA</td>\n",
       "      <td>390.100006</td>\n",
       "      <td>392.730011</td>\n",
       "      <td>373.040009</td>\n",
       "      <td>379.279999</td>\n",
       "      <td>109710700.0</td>\n",
       "      <td>0.0</td>\n",
       "      <td>0.0</td>\n",
       "    </tr>\n",
       "    <tr>\n",
       "      <th>1</th>\n",
       "      <td>2025-01-03 05:00:00</td>\n",
       "      <td>1d</td>\n",
       "      <td>TSLA_USD_STK</td>\n",
       "      <td>TSLA</td>\n",
       "      <td>381.480011</td>\n",
       "      <td>411.880005</td>\n",
       "      <td>379.450012</td>\n",
       "      <td>410.440002</td>\n",
       "      <td>95423300.0</td>\n",
       "      <td>0.0</td>\n",
       "      <td>0.0</td>\n",
       "    </tr>\n",
       "    <tr>\n",
       "      <th>2</th>\n",
       "      <td>2025-01-06 05:00:00</td>\n",
       "      <td>1d</td>\n",
       "      <td>TSLA_USD_STK</td>\n",
       "      <td>TSLA</td>\n",
       "      <td>423.200012</td>\n",
       "      <td>426.429993</td>\n",
       "      <td>401.700012</td>\n",
       "      <td>411.049988</td>\n",
       "      <td>85516500.0</td>\n",
       "      <td>0.0</td>\n",
       "      <td>0.0</td>\n",
       "    </tr>\n",
       "  </tbody>\n",
       "</table>\n",
       "</div>"
      ],
      "text/plain": [
       "                   ts resolution       product symbol        open        high  \\\n",
       "0 2025-01-02 05:00:00         1d  TSLA_USD_STK   TSLA  390.100006  392.730011   \n",
       "1 2025-01-03 05:00:00         1d  TSLA_USD_STK   TSLA  381.480011  411.880005   \n",
       "2 2025-01-06 05:00:00         1d  TSLA_USD_STK   TSLA  423.200012  426.429993   \n",
       "\n",
       "          low       close       volume  dividends  splits  \n",
       "0  373.040009  379.279999  109710700.0        0.0     0.0  \n",
       "1  379.450012  410.440002   95423300.0        0.0     0.0  \n",
       "2  401.700012  411.049988   85516500.0        0.0     0.0  "
      ]
     },
     "execution_count": 6,
     "metadata": {},
     "output_type": "execute_result"
    }
   ],
   "source": [
    "yfinance_df.head(3)"
   ]
  },
  {
   "cell_type": "markdown",
   "metadata": {},
   "source": [
    "```{hint}\n",
    "If Ray appears to be running **sequentially rather than in parallel**, it may be due to *insufficient network bandwidth* for parallel downloads.\n",
    "```"
   ]
  }
 ],
 "metadata": {
  "kernelspec": {
   "display_name": "Python 3",
   "language": "python",
   "name": "python3"
  },
  "language_info": {
   "codemirror_mode": {
    "name": "ipython",
    "version": 3
   },
   "file_extension": ".py",
   "mimetype": "text/x-python",
   "name": "python",
   "nbconvert_exporter": "python",
   "pygments_lexer": "ipython3",
   "version": "3.11.10"
  }
 },
 "nbformat": 4,
 "nbformat_minor": 2
}
