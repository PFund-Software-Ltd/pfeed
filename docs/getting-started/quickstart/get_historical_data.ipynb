{
 "cells": [
  {
   "cell_type": "markdown",
   "metadata": {},
   "source": [
    "# Get Historical Data"
   ]
  },
  {
   "cell_type": "markdown",
   "metadata": {},
   "source": [
    "```{tip}\n",
    "This is a Jupyter Notebook, to accesss/download the `ipynb` file, please click the github/download icon button in the top right corner.\n",
    "```"
   ]
  },
  {
   "cell_type": "code",
   "execution_count": 1,
   "metadata": {},
   "outputs": [],
   "source": [
    "%%capture output\n",
    "%pip install pfeed"
   ]
  },
  {
   "cell_type": "code",
   "execution_count": 2,
   "metadata": {
    "tags": []
   },
   "outputs": [
    {
     "name": "stdout",
     "output_type": "stream",
     "text": [
      "loaded config /Users/stephenyau/pfundai/pfund/pfund/config/bybit/config.yml\n"
     ]
    },
    {
     "data": {
      "text/plain": [
       "'0.0.1.dev5'"
      ]
     },
     "execution_count": 2,
     "metadata": {},
     "output_type": "execute_result"
    }
   ],
   "source": [
    "import pfeed as pe\n",
    "\n",
    "pe.__version__"
   ]
  },
  {
   "cell_type": "markdown",
   "metadata": {},
   "source": [
    "## Create Data Feeds"
   ]
  },
  {
   "cell_type": "code",
   "execution_count": 4,
   "metadata": {},
   "outputs": [],
   "source": [
    "bybit_feed = pe.BybitFeed()\n",
    "yfinance_feed = pe.YahooFinanceFeed()"
   ]
  },
  {
   "cell_type": "markdown",
   "metadata": {},
   "source": [
    "## Get Historical Data from Bybit"
   ]
  },
  {
   "cell_type": "code",
   "execution_count": 9,
   "metadata": {
    "tags": [
     "scroll-output",
     "hide-output"
    ]
   },
   "outputs": [
    {
     "name": "stderr",
     "output_type": "stream",
     "text": [
      "2024-04-03T02:15:16+0800.866 | DEBUG | pfeed | failed to extract BYBIT data from local path bybit/historical/minute/BTC_USDT_PERP/BTC_USDT_PERP_2024-03-30.parquet | fn:extract_data ln:114\n",
      "2024-04-03T02:15:16+0800.892 | DEBUG | pfeed | failed to extract BYBIT data from MinIO object bybit/historical/minute/BTC_USDT_PERP/BTC_USDT_PERP_2024-03-30.parquet | fn:extract_data ln:122\n",
      "2024-04-03T02:15:16+0800.893 | INFO | pfeed | BYBIT BTC_USDT_PERP 2024-03-30 minute data is nowhere to be found, SUPPORTED_DATA_SINKS=['local', 'minio'] | fn:get_data ln:67\n",
      "2024-04-03T02:15:16+0800.895 | DEBUG | pfeed | failed to extract BYBIT data from local path bybit/historical/raw_tick/BTC_USDT_PERP/BTC_USDT_PERP_2024-03-30.parquet | fn:extract_data ln:114\n",
      "2024-04-03T02:15:17+0800.028 | DEBUG | pfeed | extracted BYBIT data from MinIO object bybit/historical/raw_tick/BTC_USDT_PERP/BTC_USDT_PERP_2024-03-30.parquet | fn:extract_data ln:120\n",
      "2024-04-03T02:15:17+0800.029 | INFO | bybit | No local data found with dtype='minute', switch to find \"raw_tick\" data instead | fn:get_historical_data ln:88\n",
      "2024-04-03T02:15:17+0800.029 | INFO | bybit | loaded BYBIT BTC_USDT_PERP 2024-03-30 raw_tick data locally | fn:get_historical_data ln:94\n",
      "\u001b[1;93m2024-04-03T02:15:17+0800.105 | WARNING | bybit | resampled local BYBIT BTC_USDT_PERP 2024-03-30 data on the fly to resolution=1m, please consider storing \"minute\" data locally | fn:get_historical_data ln:108\u001b[0m\n",
      "2024-04-03T02:15:17+0800.108 | DEBUG | pfeed | failed to extract BYBIT data from local path bybit/historical/minute/BTC_USDT_PERP/BTC_USDT_PERP_2024-03-31.parquet | fn:extract_data ln:114\n",
      "2024-04-03T02:15:17+0800.116 | DEBUG | pfeed | failed to extract BYBIT data from MinIO object bybit/historical/minute/BTC_USDT_PERP/BTC_USDT_PERP_2024-03-31.parquet | fn:extract_data ln:122\n",
      "2024-04-03T02:15:17+0800.117 | INFO | pfeed | BYBIT BTC_USDT_PERP 2024-03-31 minute data is nowhere to be found, SUPPORTED_DATA_SINKS=['local', 'minio'] | fn:get_data ln:67\n",
      "2024-04-03T02:15:17+0800.119 | DEBUG | pfeed | failed to extract BYBIT data from local path bybit/historical/raw_tick/BTC_USDT_PERP/BTC_USDT_PERP_2024-03-31.parquet | fn:extract_data ln:114\n",
      "2024-04-03T02:15:17+0800.253 | DEBUG | pfeed | extracted BYBIT data from MinIO object bybit/historical/raw_tick/BTC_USDT_PERP/BTC_USDT_PERP_2024-03-31.parquet | fn:extract_data ln:120\n",
      "2024-04-03T02:15:17+0800.253 | INFO | bybit | No local data found with dtype='minute', switch to find \"raw_tick\" data instead | fn:get_historical_data ln:88\n",
      "2024-04-03T02:15:17+0800.254 | INFO | bybit | loaded BYBIT BTC_USDT_PERP 2024-03-31 raw_tick data locally | fn:get_historical_data ln:94\n",
      "\u001b[1;93m2024-04-03T02:15:17+0800.359 | WARNING | bybit | resampled local BYBIT BTC_USDT_PERP 2024-03-31 data on the fly to resolution=1m, please consider storing \"minute\" data locally | fn:get_historical_data ln:108\u001b[0m\n",
      "2024-04-03T02:15:17+0800.361 | DEBUG | pfeed | failed to extract BYBIT data from local path bybit/historical/minute/BTC_USDT_PERP/BTC_USDT_PERP_2024-04-01.parquet | fn:extract_data ln:114\n",
      "2024-04-03T02:15:17+0800.372 | DEBUG | pfeed | failed to extract BYBIT data from MinIO object bybit/historical/minute/BTC_USDT_PERP/BTC_USDT_PERP_2024-04-01.parquet | fn:extract_data ln:122\n",
      "2024-04-03T02:15:17+0800.373 | INFO | pfeed | BYBIT BTC_USDT_PERP 2024-04-01 minute data is nowhere to be found, SUPPORTED_DATA_SINKS=['local', 'minio'] | fn:get_data ln:67\n",
      "2024-04-03T02:15:17+0800.376 | DEBUG | pfeed | failed to extract BYBIT data from local path bybit/historical/raw_tick/BTC_USDT_PERP/BTC_USDT_PERP_2024-04-01.parquet | fn:extract_data ln:114\n",
      "2024-04-03T02:15:17+0800.388 | DEBUG | pfeed | failed to extract BYBIT data from MinIO object bybit/historical/raw_tick/BTC_USDT_PERP/BTC_USDT_PERP_2024-04-01.parquet | fn:extract_data ln:122\n",
      "2024-04-03T02:15:17+0800.389 | INFO | pfeed | BYBIT BTC_USDT_PERP 2024-04-01 raw_tick data is nowhere to be found, SUPPORTED_DATA_SINKS=['local', 'minio'] | fn:get_data ln:67\n",
      "2024-04-03T02:15:17+0800.390 | DEBUG | bybit | calling https://public.bybit.com/trading/BTCUSDT | fn:get ln:23\n",
      "\u001b[1;93m2024-04-03T02:15:17+0800.542 | WARNING | bybit | Downloading BYBIT BTC_USDT_PERP 2024-04-01 minute data on the fly, please consider using pfeed's bybit.download(...) to pre-download data to your local computer first | fn:get_historical_data ln:115\u001b[0m\n",
      "2024-04-03T02:15:17+0800.592 | DEBUG | bybit | calling https://public.bybit.com/trading/BTCUSDT/BTCUSDT2024-04-01.csv.gz | fn:get ln:23\n",
      "2024-04-03T02:15:22+0800.534 | INFO | bybit | resampled BYBIT BTC_USDT_PERP 2024-04-01 minute data to resolution=1m | fn:get_historical_data ln:124\n"
     ]
    }
   ],
   "source": [
    "df = bybit_feed.get_historical_data(\n",
    "    pdt='BTC_USDT_PERP',\n",
    "    rollback_period='3d',  # rollback 3 days\n",
    "    resolution='1m',  # 1-minute data  \n",
    "    data_tool='polars',\n",
    ")"
   ]
  },
  {
   "cell_type": "code",
   "execution_count": 13,
   "metadata": {},
   "outputs": [
    {
     "data": {
      "text/html": [
       "<div><style>\n",
       ".dataframe > thead > tr,\n",
       ".dataframe > tbody > tr {\n",
       "  text-align: right;\n",
       "  white-space: pre-wrap;\n",
       "}\n",
       "</style>\n",
       "<small>shape: (3, 8)</small><table border=\"1\" class=\"dataframe\"><thead><tr><th>ts</th><th>product</th><th>resolution</th><th>open</th><th>high</th><th>low</th><th>close</th><th>volume</th></tr><tr><td>datetime[ns]</td><td>str</td><td>str</td><td>f64</td><td>f64</td><td>f64</td><td>f64</td><td>f64</td></tr></thead><tbody><tr><td>2024-03-30 00:00:00</td><td>&quot;BTC_USDT_PERP&quot;</td><td>&quot;1m&quot;</td><td>69899.2</td><td>69933.0</td><td>69885.7</td><td>69922.4</td><td>36.735</td></tr><tr><td>2024-03-30 00:01:00</td><td>&quot;BTC_USDT_PERP&quot;</td><td>&quot;1m&quot;</td><td>69922.4</td><td>69922.5</td><td>69863.5</td><td>69872.9</td><td>48.671</td></tr><tr><td>2024-03-30 00:02:00</td><td>&quot;BTC_USDT_PERP&quot;</td><td>&quot;1m&quot;</td><td>69872.9</td><td>69878.4</td><td>69834.0</td><td>69834.0</td><td>54.338</td></tr></tbody></table></div>"
      ],
      "text/plain": [
       "shape: (3, 8)\n",
       "┌──────────────┬───────────────┬────────────┬─────────┬─────────┬─────────┬─────────┬────────┐\n",
       "│ ts           ┆ product       ┆ resolution ┆ open    ┆ high    ┆ low     ┆ close   ┆ volume │\n",
       "│ ---          ┆ ---           ┆ ---        ┆ ---     ┆ ---     ┆ ---     ┆ ---     ┆ ---    │\n",
       "│ datetime[ns] ┆ str           ┆ str        ┆ f64     ┆ f64     ┆ f64     ┆ f64     ┆ f64    │\n",
       "╞══════════════╪═══════════════╪════════════╪═════════╪═════════╪═════════╪═════════╪════════╡\n",
       "│ 2024-03-30   ┆ BTC_USDT_PERP ┆ 1m         ┆ 69899.2 ┆ 69933.0 ┆ 69885.7 ┆ 69922.4 ┆ 36.735 │\n",
       "│ 00:00:00     ┆               ┆            ┆         ┆         ┆         ┆         ┆        │\n",
       "│ 2024-03-30   ┆ BTC_USDT_PERP ┆ 1m         ┆ 69922.4 ┆ 69922.5 ┆ 69863.5 ┆ 69872.9 ┆ 48.671 │\n",
       "│ 00:01:00     ┆               ┆            ┆         ┆         ┆         ┆         ┆        │\n",
       "│ 2024-03-30   ┆ BTC_USDT_PERP ┆ 1m         ┆ 69872.9 ┆ 69878.4 ┆ 69834.0 ┆ 69834.0 ┆ 54.338 │\n",
       "│ 00:02:00     ┆               ┆            ┆         ┆         ┆         ┆         ┆        │\n",
       "└──────────────┴───────────────┴────────────┴─────────┴─────────┴─────────┴─────────┴────────┘"
      ]
     },
     "execution_count": 13,
     "metadata": {},
     "output_type": "execute_result"
    }
   ],
   "source": [
    "df.head(3)"
   ]
  },
  {
   "cell_type": "code",
   "execution_count": 12,
   "metadata": {
    "tags": []
   },
   "outputs": [
    {
     "data": {
      "text/html": [
       "<div><style>\n",
       ".dataframe > thead > tr,\n",
       ".dataframe > tbody > tr {\n",
       "  text-align: right;\n",
       "  white-space: pre-wrap;\n",
       "}\n",
       "</style>\n",
       "<small>shape: (3, 8)</small><table border=\"1\" class=\"dataframe\"><thead><tr><th>ts</th><th>product</th><th>resolution</th><th>open</th><th>high</th><th>low</th><th>close</th><th>volume</th></tr><tr><td>datetime[ns]</td><td>str</td><td>str</td><td>f64</td><td>f64</td><td>f64</td><td>f64</td><td>f64</td></tr></thead><tbody><tr><td>2024-04-01 23:57:00</td><td>&quot;BTC_USDT_PERP&quot;</td><td>&quot;1m&quot;</td><td>69740.6</td><td>69773.1</td><td>69737.3</td><td>69737.3</td><td>25.548</td></tr><tr><td>2024-04-01 23:58:00</td><td>&quot;BTC_USDT_PERP&quot;</td><td>&quot;1m&quot;</td><td>69737.3</td><td>69737.4</td><td>69724.1</td><td>69724.2</td><td>37.814</td></tr><tr><td>2024-04-01 23:59:00</td><td>&quot;BTC_USDT_PERP&quot;</td><td>&quot;1m&quot;</td><td>69724.1</td><td>69724.7</td><td>69706.8</td><td>69706.8</td><td>41.45</td></tr></tbody></table></div>"
      ],
      "text/plain": [
       "shape: (3, 8)\n",
       "┌──────────────┬───────────────┬────────────┬─────────┬─────────┬─────────┬─────────┬────────┐\n",
       "│ ts           ┆ product       ┆ resolution ┆ open    ┆ high    ┆ low     ┆ close   ┆ volume │\n",
       "│ ---          ┆ ---           ┆ ---        ┆ ---     ┆ ---     ┆ ---     ┆ ---     ┆ ---    │\n",
       "│ datetime[ns] ┆ str           ┆ str        ┆ f64     ┆ f64     ┆ f64     ┆ f64     ┆ f64    │\n",
       "╞══════════════╪═══════════════╪════════════╪═════════╪═════════╪═════════╪═════════╪════════╡\n",
       "│ 2024-04-01   ┆ BTC_USDT_PERP ┆ 1m         ┆ 69740.6 ┆ 69773.1 ┆ 69737.3 ┆ 69737.3 ┆ 25.548 │\n",
       "│ 23:57:00     ┆               ┆            ┆         ┆         ┆         ┆         ┆        │\n",
       "│ 2024-04-01   ┆ BTC_USDT_PERP ┆ 1m         ┆ 69737.3 ┆ 69737.4 ┆ 69724.1 ┆ 69724.2 ┆ 37.814 │\n",
       "│ 23:58:00     ┆               ┆            ┆         ┆         ┆         ┆         ┆        │\n",
       "│ 2024-04-01   ┆ BTC_USDT_PERP ┆ 1m         ┆ 69724.1 ┆ 69724.7 ┆ 69706.8 ┆ 69706.8 ┆ 41.45  │\n",
       "│ 23:59:00     ┆               ┆            ┆         ┆         ┆         ┆         ┆        │\n",
       "└──────────────┴───────────────┴────────────┴─────────┴─────────┴─────────┴─────────┴────────┘"
      ]
     },
     "execution_count": 12,
     "metadata": {},
     "output_type": "execute_result"
    }
   ],
   "source": [
    "df.tail(3)"
   ]
  },
  {
   "cell_type": "markdown",
   "metadata": {},
   "source": [
    "## Get Historical Data from Yahoo Finance"
   ]
  },
  {
   "cell_type": "markdown",
   "metadata": {},
   "source": [
    "```{note}\n",
    "yfinance_feed actually uses the [yfinance](https://github.com/ranaroussi/yfinance) library to fetch data, so you can still use kwargs that are supported by yfinance.\n",
    "```"
   ]
  },
  {
   "cell_type": "code",
   "execution_count": 17,
   "metadata": {},
   "outputs": [
    {
     "data": {
      "text/html": [
       "<div>\n",
       "<style scoped>\n",
       "    .dataframe tbody tr th:only-of-type {\n",
       "        vertical-align: middle;\n",
       "    }\n",
       "\n",
       "    .dataframe tbody tr th {\n",
       "        vertical-align: top;\n",
       "    }\n",
       "\n",
       "    .dataframe thead th {\n",
       "        text-align: right;\n",
       "    }\n",
       "</style>\n",
       "<table border=\"1\" class=\"dataframe\">\n",
       "  <thead>\n",
       "    <tr style=\"text-align: right;\">\n",
       "      <th></th>\n",
       "      <th>symbol</th>\n",
       "      <th>resolution</th>\n",
       "      <th>open</th>\n",
       "      <th>high</th>\n",
       "      <th>low</th>\n",
       "      <th>close</th>\n",
       "      <th>volume</th>\n",
       "      <th>dividends</th>\n",
       "      <th>stock_splits</th>\n",
       "    </tr>\n",
       "    <tr>\n",
       "      <th>ts</th>\n",
       "      <th></th>\n",
       "      <th></th>\n",
       "      <th></th>\n",
       "      <th></th>\n",
       "      <th></th>\n",
       "      <th></th>\n",
       "      <th></th>\n",
       "      <th></th>\n",
       "      <th></th>\n",
       "    </tr>\n",
       "  </thead>\n",
       "  <tbody>\n",
       "    <tr>\n",
       "      <th>2024-03-26 04:00:00</th>\n",
       "      <td>TSLA</td>\n",
       "      <td>1d</td>\n",
       "      <td>178.580002</td>\n",
       "      <td>184.250000</td>\n",
       "      <td>177.380005</td>\n",
       "      <td>177.669998</td>\n",
       "      <td>113186200</td>\n",
       "      <td>0.0</td>\n",
       "      <td>0.0</td>\n",
       "    </tr>\n",
       "    <tr>\n",
       "      <th>2024-03-27 04:00:00</th>\n",
       "      <td>TSLA</td>\n",
       "      <td>1d</td>\n",
       "      <td>181.410004</td>\n",
       "      <td>181.910004</td>\n",
       "      <td>176.000000</td>\n",
       "      <td>179.830002</td>\n",
       "      <td>81804000</td>\n",
       "      <td>0.0</td>\n",
       "      <td>0.0</td>\n",
       "    </tr>\n",
       "    <tr>\n",
       "      <th>2024-03-28 04:00:00</th>\n",
       "      <td>TSLA</td>\n",
       "      <td>1d</td>\n",
       "      <td>177.449997</td>\n",
       "      <td>179.570007</td>\n",
       "      <td>175.300003</td>\n",
       "      <td>175.789993</td>\n",
       "      <td>77654800</td>\n",
       "      <td>0.0</td>\n",
       "      <td>0.0</td>\n",
       "    </tr>\n",
       "    <tr>\n",
       "      <th>2024-04-01 04:00:00</th>\n",
       "      <td>TSLA</td>\n",
       "      <td>1d</td>\n",
       "      <td>176.169998</td>\n",
       "      <td>176.750000</td>\n",
       "      <td>170.210007</td>\n",
       "      <td>175.220001</td>\n",
       "      <td>81330700</td>\n",
       "      <td>0.0</td>\n",
       "      <td>0.0</td>\n",
       "    </tr>\n",
       "    <tr>\n",
       "      <th>2024-04-02 04:00:00</th>\n",
       "      <td>TSLA</td>\n",
       "      <td>1d</td>\n",
       "      <td>164.688995</td>\n",
       "      <td>167.690002</td>\n",
       "      <td>163.429993</td>\n",
       "      <td>166.149994</td>\n",
       "      <td>93186827</td>\n",
       "      <td>0.0</td>\n",
       "      <td>0.0</td>\n",
       "    </tr>\n",
       "  </tbody>\n",
       "</table>\n",
       "</div>"
      ],
      "text/plain": [
       "                    symbol resolution        open        high         low  \\\n",
       "ts                                                                          \n",
       "2024-03-26 04:00:00   TSLA         1d  178.580002  184.250000  177.380005   \n",
       "2024-03-27 04:00:00   TSLA         1d  181.410004  181.910004  176.000000   \n",
       "2024-03-28 04:00:00   TSLA         1d  177.449997  179.570007  175.300003   \n",
       "2024-04-01 04:00:00   TSLA         1d  176.169998  176.750000  170.210007   \n",
       "2024-04-02 04:00:00   TSLA         1d  164.688995  167.690002  163.429993   \n",
       "\n",
       "                          close     volume  dividends  stock_splits  \n",
       "ts                                                                   \n",
       "2024-03-26 04:00:00  177.669998  113186200        0.0           0.0  \n",
       "2024-03-27 04:00:00  179.830002   81804000        0.0           0.0  \n",
       "2024-03-28 04:00:00  175.789993   77654800        0.0           0.0  \n",
       "2024-04-01 04:00:00  175.220001   81330700        0.0           0.0  \n",
       "2024-04-02 04:00:00  166.149994   93186827        0.0           0.0  "
      ]
     },
     "execution_count": 17,
     "metadata": {},
     "output_type": "execute_result"
    }
   ],
   "source": [
    "yfinance_kwargs = {}  # please refer to yfinance's documentation for the supported kwargs\n",
    "df = yfinance_feed.get_historical_data(\n",
    "    # NOTE: `symbol` is used, not `pdt` (product)\n",
    "    symbol='TSLA',  \n",
    "    rollback_period='1w',  # rollback 1 week\n",
    "    resolution='1d',  # 1-day data\n",
    "    **yfinance_kwargs\n",
    ")\n",
    "df"
   ]
  }
 ],
 "metadata": {
  "kernelspec": {
   "display_name": "pfeed",
   "language": "python",
   "name": "python3"
  },
  "language_info": {
   "codemirror_mode": {
    "name": "ipython",
    "version": 3
   },
   "file_extension": ".py",
   "mimetype": "text/x-python",
   "name": "python",
   "nbconvert_exporter": "python",
   "pygments_lexer": "ipython3",
   "version": "3.11.7"
  }
 },
 "nbformat": 4,
 "nbformat_minor": 2
}
