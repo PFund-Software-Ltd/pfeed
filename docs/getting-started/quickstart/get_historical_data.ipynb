{
 "cells": [
  {
   "cell_type": "markdown",
   "metadata": {},
   "source": [
    "# Get Historical Data"
   ]
  },
  {
   "cell_type": "code",
   "execution_count": 1,
   "metadata": {
    "tags": []
   },
   "outputs": [
    {
     "data": {
      "text/plain": [
       "'0.0.1.dev12'"
      ]
     },
     "execution_count": 1,
     "metadata": {},
     "output_type": "execute_result"
    }
   ],
   "source": [
    "import pfeed as pe\n",
    "\n",
    "pe.__version__"
   ]
  },
  {
   "cell_type": "markdown",
   "metadata": {},
   "source": [
    "## Create Data Feeds"
   ]
  },
  {
   "cell_type": "markdown",
   "metadata": {},
   "source": [
    " ```{seealso}\n",
    "Pick your favorite data tool, e.g. `pandas`, `polars` etc, see [Supported Data Tools](../../supported-data-tools.md) for more information.\n",
    "```"
   ]
  },
  {
   "cell_type": "code",
   "execution_count": 2,
   "metadata": {},
   "outputs": [],
   "source": [
    "bybit_feed = pe.BybitFeed(data_tool='polars')\n",
    "yfinance_feed = pe.YahooFinanceFeed(data_tool='pandas')"
   ]
  },
  {
   "cell_type": "markdown",
   "metadata": {},
   "source": [
    "## Get Historical Data from Bybit"
   ]
  },
  {
   "cell_type": "code",
   "execution_count": 3,
   "metadata": {
    "tags": [
     "scroll-output",
     "hide-output"
    ]
   },
   "outputs": [
    {
     "name": "stderr",
     "output_type": "stream",
     "text": [
      "2024-09-01T21:46:40+0800.219 | DEBUG | bybit_data | Removed temporary directory: /Users/stephenyau/pfund.ai/pfeed/.local/data/bybit_temp_7xg66x25 | fn:_prepare_temp_dir ln:172\n",
      "2024-09-01T21:46:40+0800.429 | DEBUG | bybit_data | failed to extract BYBIT minute data from local path /Users/stephenyau/pfund.ai/pfeed/.local/data/bybit/historical/minute/BTC_USDT_PERP/BTC_USDT_PERP_2024-08-30.parquet | fn:extract_data ln:128\n",
      "2024-09-01T21:46:40+0800.477 | DEBUG | bybit_data | failed to extract BYBIT minute data from MinIO object bybit/historical/minute/BTC_USDT_PERP/BTC_USDT_PERP_2024-08-30.parquet | fn:extract_data ln:136\n",
      "2024-09-01T21:46:40+0800.517 | DEBUG | bybit_data | extracted BYBIT raw_tick data from local path /Users/stephenyau/pfund.ai/pfeed/.local/data/bybit/historical/raw_tick/BTC_USDT_PERP/BTC_USDT_PERP_2024-08-30.parquet | fn:extract_data ln:125\n",
      "2024-09-01T21:46:40+0800.519 | INFO | bybit_data | No local BYBIT data found with dtype='minute', switched to find \"raw_tick\" data instead | fn:_get_data_from_local ln:127\n",
      "2024-09-01T21:46:40+0800.519 | INFO | bybit_data | loaded BYBIT BTC_USDT_PERP 2024-08-30 raw_tick data locally | fn:_get_data_from_local ln:133\n",
      "2024-09-01T21:46:41+0800.517 | INFO | bybit_data | resampled BYBIT raw tick  data to resolution=1m | fn:_transform_raw_data_to_dtype ln:54\n",
      "2024-09-01T21:46:41+0800.528 | DEBUG | bybit_data | failed to extract BYBIT minute data from local path /Users/stephenyau/pfund.ai/pfeed/.local/data/bybit/historical/minute/BTC_USDT_PERP/BTC_USDT_PERP_2024-08-31.parquet | fn:extract_data ln:128\n",
      "2024-09-01T21:46:41+0800.536 | DEBUG | bybit_data | failed to extract BYBIT minute data from MinIO object bybit/historical/minute/BTC_USDT_PERP/BTC_USDT_PERP_2024-08-31.parquet | fn:extract_data ln:136\n",
      "2024-09-01T21:46:41+0800.541 | DEBUG | bybit_data | extracted BYBIT raw_tick data from local path /Users/stephenyau/pfund.ai/pfeed/.local/data/bybit/historical/raw_tick/BTC_USDT_PERP/BTC_USDT_PERP_2024-08-31.parquet | fn:extract_data ln:125\n",
      "2024-09-01T21:46:41+0800.541 | INFO | bybit_data | No local BYBIT data found with dtype='minute', switched to find \"raw_tick\" data instead | fn:_get_data_from_local ln:127\n",
      "2024-09-01T21:46:41+0800.541 | INFO | bybit_data | loaded BYBIT BTC_USDT_PERP 2024-08-31 raw_tick data locally | fn:_get_data_from_local ln:133\n",
      "2024-09-01T21:46:41+0800.767 | INFO | bybit_data | resampled BYBIT raw tick  data to resolution=1m | fn:_transform_raw_data_to_dtype ln:54\n"
     ]
    }
   ],
   "source": [
    "bybit_df = bybit_feed.get_historical_data(\n",
    "    'BTC_USDT_PERP',\n",
    "    rollback_period='2d',  # rollback 2 days\n",
    "    resolution='1m',  # 1-minute data  \n",
    ")"
   ]
  },
  {
   "cell_type": "markdown",
   "metadata": {},
   "source": [
    "By calling just **one line of code** above, now you can play with the clean data returned."
   ]
  },
  {
   "cell_type": "code",
   "execution_count": 4,
   "metadata": {
    "tags": []
   },
   "outputs": [
    {
     "data": {
      "text/html": [
       "<div><style>\n",
       ".dataframe > thead > tr,\n",
       ".dataframe > tbody > tr {\n",
       "  text-align: right;\n",
       "  white-space: pre-wrap;\n",
       "}\n",
       "</style>\n",
       "<small>shape: (3, 8)</small><table border=\"1\" class=\"dataframe\"><thead><tr><th>ts</th><th>product</th><th>resolution</th><th>open</th><th>high</th><th>low</th><th>close</th><th>volume</th></tr><tr><td>datetime[ns]</td><td>str</td><td>str</td><td>f64</td><td>f64</td><td>f64</td><td>f64</td><td>f64</td></tr></thead><tbody><tr><td>2024-08-31 23:57:00</td><td>&quot;BTC_USDT_PERP&quot;</td><td>&quot;1m&quot;</td><td>58950.4</td><td>58950.4</td><td>58946.9</td><td>58947.0</td><td>1.155</td></tr><tr><td>2024-08-31 23:58:00</td><td>&quot;BTC_USDT_PERP&quot;</td><td>&quot;1m&quot;</td><td>58947.0</td><td>58947.0</td><td>58929.5</td><td>58946.7</td><td>29.341</td></tr><tr><td>2024-08-31 23:59:00</td><td>&quot;BTC_USDT_PERP&quot;</td><td>&quot;1m&quot;</td><td>58946.6</td><td>58951.3</td><td>58944.4</td><td>58944.4</td><td>4.137</td></tr></tbody></table></div>"
      ],
      "text/plain": [
       "shape: (3, 8)\n",
       "┌──────────────┬───────────────┬────────────┬─────────┬─────────┬─────────┬─────────┬────────┐\n",
       "│ ts           ┆ product       ┆ resolution ┆ open    ┆ high    ┆ low     ┆ close   ┆ volume │\n",
       "│ ---          ┆ ---           ┆ ---        ┆ ---     ┆ ---     ┆ ---     ┆ ---     ┆ ---    │\n",
       "│ datetime[ns] ┆ str           ┆ str        ┆ f64     ┆ f64     ┆ f64     ┆ f64     ┆ f64    │\n",
       "╞══════════════╪═══════════════╪════════════╪═════════╪═════════╪═════════╪═════════╪════════╡\n",
       "│ 2024-08-31   ┆ BTC_USDT_PERP ┆ 1m         ┆ 58950.4 ┆ 58950.4 ┆ 58946.9 ┆ 58947.0 ┆ 1.155  │\n",
       "│ 23:57:00     ┆               ┆            ┆         ┆         ┆         ┆         ┆        │\n",
       "│ 2024-08-31   ┆ BTC_USDT_PERP ┆ 1m         ┆ 58947.0 ┆ 58947.0 ┆ 58929.5 ┆ 58946.7 ┆ 29.341 │\n",
       "│ 23:58:00     ┆               ┆            ┆         ┆         ┆         ┆         ┆        │\n",
       "│ 2024-08-31   ┆ BTC_USDT_PERP ┆ 1m         ┆ 58946.6 ┆ 58951.3 ┆ 58944.4 ┆ 58944.4 ┆ 4.137  │\n",
       "│ 23:59:00     ┆               ┆            ┆         ┆         ┆         ┆         ┆        │\n",
       "└──────────────┴───────────────┴────────────┴─────────┴─────────┴─────────┴─────────┴────────┘"
      ]
     },
     "execution_count": 4,
     "metadata": {},
     "output_type": "execute_result"
    }
   ],
   "source": [
    "bybit_df.collect().tail(3)"
   ]
  },
  {
   "cell_type": "markdown",
   "metadata": {},
   "source": [
    "## Get Historical Data from Yahoo Finance"
   ]
  },
  {
   "cell_type": "markdown",
   "metadata": {},
   "source": [
    "```{note}\n",
    "yfinance_feed actually uses the [yfinance](https://github.com/ranaroussi/yfinance) library to fetch data, so you can still use kwargs that are supported by yfinance.\n",
    "```"
   ]
  },
  {
   "cell_type": "code",
   "execution_count": 6,
   "metadata": {},
   "outputs": [
    {
     "data": {
      "text/html": [
       "<div>\n",
       "<style scoped>\n",
       "    .dataframe tbody tr th:only-of-type {\n",
       "        vertical-align: middle;\n",
       "    }\n",
       "\n",
       "    .dataframe tbody tr th {\n",
       "        vertical-align: top;\n",
       "    }\n",
       "\n",
       "    .dataframe thead th {\n",
       "        text-align: right;\n",
       "    }\n",
       "</style>\n",
       "<table border=\"1\" class=\"dataframe\">\n",
       "  <thead>\n",
       "    <tr style=\"text-align: right;\">\n",
       "      <th></th>\n",
       "      <th>ts</th>\n",
       "      <th>symbol</th>\n",
       "      <th>resolution</th>\n",
       "      <th>open</th>\n",
       "      <th>high</th>\n",
       "      <th>low</th>\n",
       "      <th>close</th>\n",
       "      <th>volume</th>\n",
       "      <th>dividends</th>\n",
       "      <th>splits</th>\n",
       "    </tr>\n",
       "  </thead>\n",
       "  <tbody>\n",
       "    <tr>\n",
       "      <th>0</th>\n",
       "      <td>2024-01-02 05:00:00</td>\n",
       "      <td>TSLA</td>\n",
       "      <td>1d</td>\n",
       "      <td>250.080002</td>\n",
       "      <td>251.250000</td>\n",
       "      <td>244.410004</td>\n",
       "      <td>248.419998</td>\n",
       "      <td>104654200</td>\n",
       "      <td>0.0</td>\n",
       "      <td>0.0</td>\n",
       "    </tr>\n",
       "    <tr>\n",
       "      <th>1</th>\n",
       "      <td>2024-01-03 05:00:00</td>\n",
       "      <td>TSLA</td>\n",
       "      <td>1d</td>\n",
       "      <td>244.979996</td>\n",
       "      <td>245.679993</td>\n",
       "      <td>236.320007</td>\n",
       "      <td>238.449997</td>\n",
       "      <td>121082600</td>\n",
       "      <td>0.0</td>\n",
       "      <td>0.0</td>\n",
       "    </tr>\n",
       "    <tr>\n",
       "      <th>2</th>\n",
       "      <td>2024-01-04 05:00:00</td>\n",
       "      <td>TSLA</td>\n",
       "      <td>1d</td>\n",
       "      <td>239.250000</td>\n",
       "      <td>242.699997</td>\n",
       "      <td>237.729996</td>\n",
       "      <td>237.929993</td>\n",
       "      <td>102629300</td>\n",
       "      <td>0.0</td>\n",
       "      <td>0.0</td>\n",
       "    </tr>\n",
       "  </tbody>\n",
       "</table>\n",
       "</div>"
      ],
      "text/plain": [
       "                   ts symbol resolution        open        high         low  \\\n",
       "0 2024-01-02 05:00:00   TSLA         1d  250.080002  251.250000  244.410004   \n",
       "1 2024-01-03 05:00:00   TSLA         1d  244.979996  245.679993  236.320007   \n",
       "2 2024-01-04 05:00:00   TSLA         1d  239.250000  242.699997  237.729996   \n",
       "\n",
       "        close     volume  dividends  splits  \n",
       "0  248.419998  104654200        0.0     0.0  \n",
       "1  238.449997  121082600        0.0     0.0  \n",
       "2  237.929993  102629300        0.0     0.0  "
      ]
     },
     "execution_count": 6,
     "metadata": {},
     "output_type": "execute_result"
    }
   ],
   "source": [
    "yfinance_kwargs = {}  # please refer to yfinance's documentation for the supported kwargs\n",
    "df = yfinance_feed.get_historical_data(\n",
    "    'TSLA',\n",
    "    resolution='1d',  # 1-day data\n",
    "    start_date='2024-01-01',\n",
    "    end_date='2024-01-31',\n",
    "    **yfinance_kwargs\n",
    ")\n",
    "df.head(3)"
   ]
  },
  {
   "cell_type": "markdown",
   "metadata": {},
   "source": [
    "```{seealso}\n",
    "See [Supported Data Sources](../../supported-data-sources.md) to find out what data sources are supported.\n",
    "```"
   ]
  }
 ],
 "metadata": {
  "kernelspec": {
   "display_name": "pfeed",
   "language": "python",
   "name": "python3"
  },
  "language_info": {
   "codemirror_mode": {
    "name": "ipython",
    "version": 3
   },
   "file_extension": ".py",
   "mimetype": "text/x-python",
   "name": "python",
   "nbconvert_exporter": "python",
   "pygments_lexer": "ipython3",
   "version": "3.11.7"
  }
 },
 "nbformat": 4,
 "nbformat_minor": 2
}
