{
 "cells": [
  {
   "cell_type": "markdown",
   "metadata": {},
   "source": [
    "# Get Historical Data"
   ]
  },
  {
   "cell_type": "code",
   "execution_count": 1,
   "metadata": {
    "execution": {
     "iopub.execute_input": "2024-10-11T12:46:11.647242Z",
     "iopub.status.busy": "2024-10-11T12:46:11.647062Z",
     "iopub.status.idle": "2024-10-11T12:46:11.740907Z",
     "shell.execute_reply": "2024-10-11T12:46:11.740357Z"
    },
    "tags": []
   },
   "outputs": [
    {
     "data": {
      "text/plain": [
       "'0.0.2.dev3'"
      ]
     },
     "execution_count": 1,
     "metadata": {},
     "output_type": "execute_result"
    }
   ],
   "source": [
    "import pfeed as pe\n",
    "\n",
    "pe.__version__"
   ]
  },
  {
   "cell_type": "markdown",
   "metadata": {},
   "source": [
    "## Create Data Feeds"
   ]
  },
  {
   "cell_type": "markdown",
   "metadata": {},
   "source": [
    " ```{seealso}\n",
    "Pick your favorite data tool, e.g. `pandas`, `polars` etc, see [Supported Data Tools](../../supported-data-tools.md) for more information.\n",
    "```"
   ]
  },
  {
   "cell_type": "code",
   "execution_count": 2,
   "metadata": {
    "execution": {
     "iopub.execute_input": "2024-10-11T12:46:11.760496Z",
     "iopub.status.busy": "2024-10-11T12:46:11.760344Z",
     "iopub.status.idle": "2024-10-11T12:46:12.824486Z",
     "shell.execute_reply": "2024-10-11T12:46:12.824141Z"
    }
   },
   "outputs": [],
   "source": [
    "bybit_feed = pe.BybitFeed(data_tool='polars')\n",
    "yfinance_feed = pe.YahooFinanceFeed(data_tool='pandas')"
   ]
  },
  {
   "cell_type": "markdown",
   "metadata": {},
   "source": [
    "## Get Historical Data from Bybit"
   ]
  },
  {
   "cell_type": "code",
   "execution_count": 3,
   "metadata": {
    "execution": {
     "iopub.execute_input": "2024-10-11T12:46:12.826151Z",
     "iopub.status.busy": "2024-10-11T12:46:12.825941Z",
     "iopub.status.idle": "2024-10-11T12:46:13.030554Z",
     "shell.execute_reply": "2024-10-11T12:46:13.030196Z"
    },
    "tags": [
     "scroll-output"
    ]
   },
   "outputs": [],
   "source": [
    "bybit_df = bybit_feed.get_historical_data(\n",
    "    'BTC_USDT_PERP',\n",
    "    rollback_period='2d',  # rollback 2 days\n",
    "    resolution='1m',  # 1-minute data  \n",
    ")"
   ]
  },
  {
   "cell_type": "markdown",
   "metadata": {},
   "source": [
    "By calling just **one line of code** above, now you can play with the clean data returned."
   ]
  },
  {
   "cell_type": "code",
   "execution_count": 4,
   "metadata": {
    "execution": {
     "iopub.execute_input": "2024-10-11T12:46:13.032002Z",
     "iopub.status.busy": "2024-10-11T12:46:13.031891Z",
     "iopub.status.idle": "2024-10-11T12:46:13.056568Z",
     "shell.execute_reply": "2024-10-11T12:46:13.056142Z"
    },
    "tags": []
   },
   "outputs": [
    {
     "data": {
      "text/html": [
       "<div><style>\n",
       ".dataframe > thead > tr,\n",
       ".dataframe > tbody > tr {\n",
       "  text-align: right;\n",
       "  white-space: pre-wrap;\n",
       "}\n",
       "</style>\n",
       "<small>shape: (3, 8)</small><table border=\"1\" class=\"dataframe\"><thead><tr><th>ts</th><th>product</th><th>resolution</th><th>open</th><th>high</th><th>low</th><th>close</th><th>volume</th></tr><tr><td>datetime[ns]</td><td>str</td><td>str</td><td>f64</td><td>f64</td><td>f64</td><td>f64</td><td>f64</td></tr></thead><tbody><tr><td>2024-10-10 23:57:00</td><td>&quot;BTC_USDT_PERP&quot;</td><td>&quot;1m&quot;</td><td>60291.7</td><td>60297.3</td><td>60281.6</td><td>60289.1</td><td>30.471</td></tr><tr><td>2024-10-10 23:58:00</td><td>&quot;BTC_USDT_PERP&quot;</td><td>&quot;1m&quot;</td><td>60289.2</td><td>60296.9</td><td>60288.0</td><td>60290.7</td><td>27.009</td></tr><tr><td>2024-10-10 23:59:00</td><td>&quot;BTC_USDT_PERP&quot;</td><td>&quot;1m&quot;</td><td>60290.8</td><td>60296.9</td><td>60290.7</td><td>60295.6</td><td>25.578</td></tr></tbody></table></div>"
      ],
      "text/plain": [
       "shape: (3, 8)\n",
       "┌──────────────┬───────────────┬────────────┬─────────┬─────────┬─────────┬─────────┬────────┐\n",
       "│ ts           ┆ product       ┆ resolution ┆ open    ┆ high    ┆ low     ┆ close   ┆ volume │\n",
       "│ ---          ┆ ---           ┆ ---        ┆ ---     ┆ ---     ┆ ---     ┆ ---     ┆ ---    │\n",
       "│ datetime[ns] ┆ str           ┆ str        ┆ f64     ┆ f64     ┆ f64     ┆ f64     ┆ f64    │\n",
       "╞══════════════╪═══════════════╪════════════╪═════════╪═════════╪═════════╪═════════╪════════╡\n",
       "│ 2024-10-10   ┆ BTC_USDT_PERP ┆ 1m         ┆ 60291.7 ┆ 60297.3 ┆ 60281.6 ┆ 60289.1 ┆ 30.471 │\n",
       "│ 23:57:00     ┆               ┆            ┆         ┆         ┆         ┆         ┆        │\n",
       "│ 2024-10-10   ┆ BTC_USDT_PERP ┆ 1m         ┆ 60289.2 ┆ 60296.9 ┆ 60288.0 ┆ 60290.7 ┆ 27.009 │\n",
       "│ 23:58:00     ┆               ┆            ┆         ┆         ┆         ┆         ┆        │\n",
       "│ 2024-10-10   ┆ BTC_USDT_PERP ┆ 1m         ┆ 60290.8 ┆ 60296.9 ┆ 60290.7 ┆ 60295.6 ┆ 25.578 │\n",
       "│ 23:59:00     ┆               ┆            ┆         ┆         ┆         ┆         ┆        │\n",
       "└──────────────┴───────────────┴────────────┴─────────┴─────────┴─────────┴─────────┴────────┘"
      ]
     },
     "execution_count": 4,
     "metadata": {},
     "output_type": "execute_result"
    }
   ],
   "source": [
    "bybit_df.collect().tail(3)"
   ]
  },
  {
   "cell_type": "markdown",
   "metadata": {},
   "source": [
    "## Get Historical Data from Yahoo Finance"
   ]
  },
  {
   "cell_type": "markdown",
   "metadata": {},
   "source": [
    "```{note}\n",
    "yfinance_feed actually uses the [yfinance](https://github.com/ranaroussi/yfinance) library to fetch data, so you can still use kwargs that are supported by yfinance.\n",
    "```"
   ]
  },
  {
   "cell_type": "code",
   "execution_count": 5,
   "metadata": {
    "execution": {
     "iopub.execute_input": "2024-10-11T12:46:13.058127Z",
     "iopub.status.busy": "2024-10-11T12:46:13.058007Z",
     "iopub.status.idle": "2024-10-11T12:46:20.917025Z",
     "shell.execute_reply": "2024-10-11T12:46:20.916489Z"
    }
   },
   "outputs": [
    {
     "data": {
      "text/html": [
       "<div>\n",
       "<style scoped>\n",
       "    .dataframe tbody tr th:only-of-type {\n",
       "        vertical-align: middle;\n",
       "    }\n",
       "\n",
       "    .dataframe tbody tr th {\n",
       "        vertical-align: top;\n",
       "    }\n",
       "\n",
       "    .dataframe thead th {\n",
       "        text-align: right;\n",
       "    }\n",
       "</style>\n",
       "<table border=\"1\" class=\"dataframe\">\n",
       "  <thead>\n",
       "    <tr style=\"text-align: right;\">\n",
       "      <th></th>\n",
       "      <th>ts</th>\n",
       "      <th>symbol</th>\n",
       "      <th>resolution</th>\n",
       "      <th>open</th>\n",
       "      <th>high</th>\n",
       "      <th>low</th>\n",
       "      <th>close</th>\n",
       "      <th>volume</th>\n",
       "      <th>dividends</th>\n",
       "      <th>splits</th>\n",
       "    </tr>\n",
       "  </thead>\n",
       "  <tbody>\n",
       "    <tr>\n",
       "      <th>0</th>\n",
       "      <td>2024-01-02 05:00:00</td>\n",
       "      <td>TSLA</td>\n",
       "      <td>1d</td>\n",
       "      <td>250.080002</td>\n",
       "      <td>251.250000</td>\n",
       "      <td>244.410004</td>\n",
       "      <td>248.419998</td>\n",
       "      <td>104654200</td>\n",
       "      <td>0.0</td>\n",
       "      <td>0.0</td>\n",
       "    </tr>\n",
       "    <tr>\n",
       "      <th>1</th>\n",
       "      <td>2024-01-03 05:00:00</td>\n",
       "      <td>TSLA</td>\n",
       "      <td>1d</td>\n",
       "      <td>244.979996</td>\n",
       "      <td>245.679993</td>\n",
       "      <td>236.320007</td>\n",
       "      <td>238.449997</td>\n",
       "      <td>121082600</td>\n",
       "      <td>0.0</td>\n",
       "      <td>0.0</td>\n",
       "    </tr>\n",
       "    <tr>\n",
       "      <th>2</th>\n",
       "      <td>2024-01-04 05:00:00</td>\n",
       "      <td>TSLA</td>\n",
       "      <td>1d</td>\n",
       "      <td>239.250000</td>\n",
       "      <td>242.699997</td>\n",
       "      <td>237.729996</td>\n",
       "      <td>237.929993</td>\n",
       "      <td>102629300</td>\n",
       "      <td>0.0</td>\n",
       "      <td>0.0</td>\n",
       "    </tr>\n",
       "  </tbody>\n",
       "</table>\n",
       "</div>"
      ],
      "text/plain": [
       "                   ts symbol resolution        open        high         low  \\\n",
       "0 2024-01-02 05:00:00   TSLA         1d  250.080002  251.250000  244.410004   \n",
       "1 2024-01-03 05:00:00   TSLA         1d  244.979996  245.679993  236.320007   \n",
       "2 2024-01-04 05:00:00   TSLA         1d  239.250000  242.699997  237.729996   \n",
       "\n",
       "        close     volume  dividends  splits  \n",
       "0  248.419998  104654200        0.0     0.0  \n",
       "1  238.449997  121082600        0.0     0.0  \n",
       "2  237.929993  102629300        0.0     0.0  "
      ]
     },
     "execution_count": 5,
     "metadata": {},
     "output_type": "execute_result"
    }
   ],
   "source": [
    "yfinance_kwargs = {}  # please refer to yfinance's documentation for the supported kwargs\n",
    "df = yfinance_feed.get_historical_data(\n",
    "    'TSLA',\n",
    "    resolution='1d',  # 1-day data\n",
    "    start_date='2024-01-01',\n",
    "    end_date='2024-01-31',\n",
    "    **yfinance_kwargs\n",
    ")\n",
    "df.head(3)"
   ]
  },
  {
   "cell_type": "markdown",
   "metadata": {},
   "source": [
    "```{seealso}\n",
    "See [Supported Data Sources](../../supported-data-sources.md) to find out what data sources are supported.\n",
    "```"
   ]
  }
 ],
 "metadata": {
  "kernelspec": {
   "display_name": "pfeed",
   "language": "python",
   "name": "python3"
  },
  "language_info": {
   "codemirror_mode": {
    "name": "ipython",
    "version": 3
   },
   "file_extension": ".py",
   "mimetype": "text/x-python",
   "name": "python",
   "nbconvert_exporter": "python",
   "pygments_lexer": "ipython3",
   "version": "3.11.7"
  }
 },
 "nbformat": 4,
 "nbformat_minor": 2
}
