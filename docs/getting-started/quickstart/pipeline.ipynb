{
 "cells": [
  {
   "cell_type": "markdown",
   "metadata": {},
   "source": [
    "# Pipeline Mode"
   ]
  },
  {
   "cell_type": "code",
   "execution_count": null,
   "metadata": {},
   "outputs": [],
   "source": [
    "from pfeed.feeds import BybitFeed\n",
    "\n",
    "\n",
    "(\n",
    "    BybitFeed(use_prefect=True, pipeline_mode=True)\n",
    "    .download(\n",
    "        products=['BTC_USDT_PERP'],\n",
    "        start_date='2024-01-01',\n",
    "        end_date='2024-01-02',\n",
    "    )\n",
    "    .load(storage='local')\n",
    ")\n"
   ]
  }
 ],
 "metadata": {
  "language_info": {
   "name": "python"
  }
 },
 "nbformat": 4,
 "nbformat_minor": 2
}
