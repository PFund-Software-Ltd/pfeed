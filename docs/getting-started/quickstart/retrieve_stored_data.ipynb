{
 "cells": [
  {
   "cell_type": "markdown",
   "metadata": {},
   "source": [
    "# Retrieve Stored Data"
   ]
  },
  {
   "cell_type": "code",
   "execution_count": 2,
   "metadata": {
    "execution": {
     "iopub.execute_input": "2024-10-11T12:46:07.935048Z",
     "iopub.status.busy": "2024-10-11T12:46:07.934868Z",
     "iopub.status.idle": "2024-10-11T12:46:08.062655Z",
     "shell.execute_reply": "2024-10-11T12:46:08.062348Z"
    }
   },
   "outputs": [
    {
     "data": {
      "text/plain": [
       "'0.0.2'"
      ]
     },
     "execution_count": 2,
     "metadata": {},
     "output_type": "execute_result"
    }
   ],
   "source": [
    "import pfeed as pe\n",
    "\n",
    "pe.__version__"
   ]
  },
  {
   "cell_type": "code",
   "execution_count": null,
   "metadata": {},
   "outputs": [],
   "source": [
    "feed = pe.Bybit(use_deltalake=True)  # use_deltalake=True is optional, default is False"
   ]
  },
  {
   "cell_type": "markdown",
   "metadata": {},
   "source": [
    "```{note} Delta Lake\n",
    "If you are using Delta Lake, make sure to read [Storage](../../tutorials/storage) and [Integration with Delta Lake](../../integrations/deltalake).\n",
    "\n",
    "Most importantly, **understand how `VACUUM` works** to manage storage.\n",
    "```"
   ]
  }
 ],
 "metadata": {
  "kernelspec": {
   "display_name": "Python 3",
   "language": "python",
   "name": "python3"
  },
  "language_info": {
   "codemirror_mode": {
    "name": "ipython",
    "version": 3
   },
   "file_extension": ".py",
   "mimetype": "text/x-python",
   "name": "python",
   "nbconvert_exporter": "python",
   "pygments_lexer": "ipython3",
   "version": "3.11.10"
  }
 },
 "nbformat": 4,
 "nbformat_minor": 2
}
