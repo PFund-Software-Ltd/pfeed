{
 "cells": [
  {
   "cell_type": "markdown",
   "metadata": {},
   "source": [
    "# Download Historical Data"
   ]
  },
  {
   "cell_type": "code",
   "execution_count": 1,
   "metadata": {
    "execution": {
     "iopub.execute_input": "2024-10-11T12:46:24.570185Z",
     "iopub.status.busy": "2024-10-11T12:46:24.570056Z",
     "iopub.status.idle": "2024-10-11T12:46:24.700421Z",
     "shell.execute_reply": "2024-10-11T12:46:24.700061Z"
    }
   },
   "outputs": [
    {
     "data": {
      "text/plain": [
       "'0.0.2'"
      ]
     },
     "execution_count": 1,
     "metadata": {},
     "output_type": "execute_result"
    }
   ],
   "source": [
    "import pfeed as pe\n",
    "\n",
    "pe.__version__"
   ]
  },
  {
   "cell_type": "code",
   "execution_count": 2,
   "metadata": {},
   "outputs": [],
   "source": [
    "# Delta Lake format is enabled when use_deltalake=True\n",
    "bybit_feed = pe.BybitFeed(data_tool='polars', use_ray=True, use_deltalake=True)\n",
    "yfinance_feed = pe.YahooFinanceFeed(data_tool='dask', use_ray=False, use_deltalake=False)"
   ]
  },
  {
   "cell_type": "markdown",
   "metadata": {},
   "source": [
    "## Download Historical Data from Bybit"
   ]
  },
  {
   "cell_type": "markdown",
   "metadata": {},
   "source": [
    "> if MinIO is not running, you can start it by running `pfeed docker-compose up -d minio`."
   ]
  },
  {
   "cell_type": "code",
   "execution_count": 3,
   "metadata": {
    "execution": {
     "iopub.execute_input": "2024-10-11T12:46:24.720373Z",
     "iopub.status.busy": "2024-10-11T12:46:24.720204Z",
     "iopub.status.idle": "2024-10-11T12:47:08.928038Z",
     "shell.execute_reply": "2024-10-11T12:47:08.927293Z"
    },
    "tags": [
     "scroll-output",
     "remove-output"
    ]
   },
   "outputs": [
    {
     "data": {
      "text/html": [
       "<pre style=\"white-space:pre;overflow-x:auto;line-height:normal;font-family:Menlo,'DejaVu Sans Mono',consolas,'Courier New',monospace\"><span style=\"color: #808000; text-decoration-color: #808000; font-weight: bold\">Downloading historical 1_TICK data from BYBIT, from </span><span style=\"color: #008080; text-decoration-color: #008080; font-weight: bold\">2025</span><span style=\"color: #808000; text-decoration-color: #808000; font-weight: bold\">-</span><span style=\"color: #008080; text-decoration-color: #008080; font-weight: bold\">01</span><span style=\"color: #808000; text-decoration-color: #808000; font-weight: bold\">-</span><span style=\"color: #008080; text-decoration-color: #008080; font-weight: bold\">01</span><span style=\"color: #808000; text-decoration-color: #808000; font-weight: bold\"> to </span><span style=\"color: #008080; text-decoration-color: #008080; font-weight: bold\">2025</span><span style=\"color: #808000; text-decoration-color: #808000; font-weight: bold\">-</span><span style=\"color: #008080; text-decoration-color: #008080; font-weight: bold\">01</span><span style=\"color: #808000; text-decoration-color: #808000; font-weight: bold\">-</span><span style=\"color: #008080; text-decoration-color: #008080; font-weight: bold\">02</span><span style=\"color: #808000; text-decoration-color: #808000; font-weight: bold\"> (UTC), </span><span style=\"color: #808000; text-decoration-color: #808000; font-weight: bold\">data_layer</span><span style=\"color: #808000; text-decoration-color: #808000; font-weight: bold\">=</span><span style=\"color: #008000; text-decoration-color: #008000\">'cleaned'</span>\n",
       "</pre>\n"
      ],
      "text/plain": [
       "\u001b[1;33mDownloading historical 1_TICK data from BYBIT, from \u001b[0m\u001b[1;36m2025\u001b[0m\u001b[1;33m-\u001b[0m\u001b[1;36m01\u001b[0m\u001b[1;33m-\u001b[0m\u001b[1;36m01\u001b[0m\u001b[1;33m to \u001b[0m\u001b[1;36m2025\u001b[0m\u001b[1;33m-\u001b[0m\u001b[1;36m01\u001b[0m\u001b[1;33m-\u001b[0m\u001b[1;36m02\u001b[0m\u001b[1;33m \u001b[0m\u001b[1;33m(\u001b[0m\u001b[1;33mUTC\u001b[0m\u001b[1;33m)\u001b[0m\u001b[1;33m, \u001b[0m\u001b[1;33mdata_layer\u001b[0m\u001b[1;33m=\u001b[0m\u001b[32m'cleaned'\u001b[0m\n"
      ]
     },
     "metadata": {},
     "output_type": "display_data"
    },
    {
     "name": "stderr",
     "output_type": "stream",
     "text": [
      "2025-02-04 18:13:11,171\tINFO worker.py:1841 -- Started a local Ray instance.\n",
      "Running BYBIT dataflows:   0%|\u001b[38;2;191;97;51m          \u001b[0m| 0/1 [00:00<?, ?it/s]2025-02-04T18:13:22+0800.105 | INFO | bybit_data | loaded BYBIT:2025-01-01:CRYPTO:BYBIT:BTC_USDT_PERP:1_TICK data to MINIO | dataflow.py fn:_load ln:149\n",
      "2025-02-04T18:13:23+0800.385 | INFO | bybit_data | loaded BYBIT:2025-01-02:CRYPTO:BYBIT:BTC_USDT_PERP:1_TICK data to MINIO | dataflow.py fn:_load ln:149\n",
      "Running BYBIT dataflows: 100%|\u001b[38;2;191;97;51m██████████\u001b[0m| 1/1 [00:12<00:00, 12.81s/it]\n"
     ]
    }
   ],
   "source": [
    "polars_lf = bybit_feed.download(\n",
    "    product='BTC_USDT_PERP',\n",
    "    resolution='1tick',\n",
    "    start_date='2025-01-01',\n",
    "    end_date='2025-01-02',\n",
    "    to_storage='minio'\n",
    ")"
   ]
  },
  {
   "cell_type": "code",
   "execution_count": 4,
   "metadata": {},
   "outputs": [
    {
     "data": {
      "text/html": [
       "<div><style>\n",
       ".dataframe > thead > tr,\n",
       ".dataframe > tbody > tr {\n",
       "  text-align: right;\n",
       "  white-space: pre-wrap;\n",
       "}\n",
       "</style>\n",
       "<small>shape: (1, 12)</small><table border=\"1\" class=\"dataframe\"><thead><tr><th>ts</th><th>resolution</th><th>product</th><th>symbol</th><th>side</th><th>volume</th><th>price</th><th>tickDirection</th><th>trdMatchID</th><th>grossValue</th><th>homeNotional</th><th>foreignNotional</th></tr><tr><td>datetime[ns]</td><td>str</td><td>str</td><td>str</td><td>i64</td><td>f64</td><td>f64</td><td>str</td><td>str</td><td>f64</td><td>f64</td><td>f64</td></tr></thead><tbody><tr><td>2025-01-01 00:00:00.097400</td><td>&quot;1t&quot;</td><td>&quot;BTC_USDT_PERP&quot;</td><td>&quot;BTCUSDT&quot;</td><td>-1</td><td>0.003</td><td>93530.0</td><td>&quot;ZeroMinusTick&quot;</td><td>&quot;e807b277-6d22-5f60-a520-768350…</td><td>2.8059e10</td><td>0.003</td><td>280.59</td></tr></tbody></table></div>"
      ],
      "text/plain": [
       "shape: (1, 12)\n",
       "┌────────────┬───────────┬───────────┬─────────┬───┬───────────┬───────────┬───────────┬───────────┐\n",
       "│ ts         ┆ resolutio ┆ product   ┆ symbol  ┆ … ┆ trdMatchI ┆ grossValu ┆ homeNotio ┆ foreignNo │\n",
       "│ ---        ┆ n         ┆ ---       ┆ ---     ┆   ┆ D         ┆ e         ┆ nal       ┆ tional    │\n",
       "│ datetime[n ┆ ---       ┆ str       ┆ str     ┆   ┆ ---       ┆ ---       ┆ ---       ┆ ---       │\n",
       "│ s]         ┆ str       ┆           ┆         ┆   ┆ str       ┆ f64       ┆ f64       ┆ f64       │\n",
       "╞════════════╪═══════════╪═══════════╪═════════╪═══╪═══════════╪═══════════╪═══════════╪═══════════╡\n",
       "│ 2025-01-01 ┆ 1t        ┆ BTC_USDT_ ┆ BTCUSDT ┆ … ┆ e807b277- ┆ 2.8059e10 ┆ 0.003     ┆ 280.59    │\n",
       "│ 00:00:00.0 ┆           ┆ PERP      ┆         ┆   ┆ 6d22-5f60 ┆           ┆           ┆           │\n",
       "│ 97400      ┆           ┆           ┆         ┆   ┆ -a520-768 ┆           ┆           ┆           │\n",
       "│            ┆           ┆           ┆         ┆   ┆ 350…      ┆           ┆           ┆           │\n",
       "└────────────┴───────────┴───────────┴─────────┴───┴───────────┴───────────┴───────────┴───────────┘"
      ]
     },
     "execution_count": 4,
     "metadata": {},
     "output_type": "execute_result"
    }
   ],
   "source": [
    "polars_lf.collect().head(1)"
   ]
  },
  {
   "cell_type": "markdown",
   "metadata": {},
   "source": [
    "## Download Historical Data from Yahoo Finance"
   ]
  },
  {
   "cell_type": "markdown",
   "metadata": {},
   "source": [
    "You can use `pfeed` to download and store yahoo finance data, which is not supported by `yfinance`."
   ]
  },
  {
   "cell_type": "code",
   "execution_count": 5,
   "metadata": {},
   "outputs": [
    {
     "data": {
      "text/html": [
       "<pre style=\"white-space:pre;overflow-x:auto;line-height:normal;font-family:Menlo,'DejaVu Sans Mono',consolas,'Courier New',monospace\"><span style=\"color: #808000; text-decoration-color: #808000; font-weight: bold\">Downloading historical 1_MINUTE data from YAHOO_FINANCE, from </span><span style=\"color: #008080; text-decoration-color: #008080; font-weight: bold\">2025</span><span style=\"color: #808000; text-decoration-color: #808000; font-weight: bold\">-</span><span style=\"color: #008080; text-decoration-color: #008080; font-weight: bold\">01</span><span style=\"color: #808000; text-decoration-color: #808000; font-weight: bold\">-</span><span style=\"color: #008080; text-decoration-color: #008080; font-weight: bold\">27</span><span style=\"color: #808000; text-decoration-color: #808000; font-weight: bold\"> to </span><span style=\"color: #008080; text-decoration-color: #008080; font-weight: bold\">2025</span><span style=\"color: #808000; text-decoration-color: #808000; font-weight: bold\">-</span><span style=\"color: #008080; text-decoration-color: #008080; font-weight: bold\">02</span><span style=\"color: #808000; text-decoration-color: #808000; font-weight: bold\">-</span><span style=\"color: #008080; text-decoration-color: #008080; font-weight: bold\">03</span><span style=\"color: #808000; text-decoration-color: #808000; font-weight: bold\"> (UTC), </span><span style=\"color: #808000; text-decoration-color: #808000; font-weight: bold\">data_layer</span><span style=\"color: #808000; text-decoration-color: #808000; font-weight: bold\">=</span><span style=\"color: #008000; text-decoration-color: #008000\">'cleaned'</span>\n",
       "</pre>\n"
      ],
      "text/plain": [
       "\u001b[1;33mDownloading historical 1_MINUTE data from YAHOO_FINANCE, from \u001b[0m\u001b[1;36m2025\u001b[0m\u001b[1;33m-\u001b[0m\u001b[1;36m01\u001b[0m\u001b[1;33m-\u001b[0m\u001b[1;36m27\u001b[0m\u001b[1;33m to \u001b[0m\u001b[1;36m2025\u001b[0m\u001b[1;33m-\u001b[0m\u001b[1;36m02\u001b[0m\u001b[1;33m-\u001b[0m\u001b[1;36m03\u001b[0m\u001b[1;33m \u001b[0m\u001b[1;33m(\u001b[0m\u001b[1;33mUTC\u001b[0m\u001b[1;33m)\u001b[0m\u001b[1;33m, \u001b[0m\u001b[1;33mdata_layer\u001b[0m\u001b[1;33m=\u001b[0m\u001b[32m'cleaned'\u001b[0m\n"
      ]
     },
     "metadata": {},
     "output_type": "display_data"
    },
    {
     "name": "stderr",
     "output_type": "stream",
     "text": [
      "Running YAHOO_FINANCE dataflows:   0%|\u001b[38;2;103;159;109m          \u001b[0m| 0/1 [00:00<?, ?it/s]2025-02-04T18:13:27+0800.578 | INFO | yahoo_finance_data | loaded YAHOO_FINANCE:(from)2025-01-27:(to)2025-02-03:YAHOO_FINANCE:TSLA_USD_STK:1_MINUTE data to LOCAL | dataflow.py fn:_load ln:149\n",
      "Running YAHOO_FINANCE dataflows: 100%|\u001b[38;2;103;159;109m██████████\u001b[0m| 1/1 [00:01<00:00,  1.49s/it]\n"
     ]
    }
   ],
   "source": [
    "dask_df = yfinance_feed.download(\n",
    "    product='TSLA_USD_STK',  # STK = stock\n",
    "    # NOTE: minute data is only available for the past 8 days\n",
    "    resolution='1m',  # 1 minute data\n",
    "    rollback_period='max',\n",
    "    to_storage='local'\n",
    ")"
   ]
  },
  {
   "cell_type": "code",
   "execution_count": 6,
   "metadata": {},
   "outputs": [
    {
     "data": {
      "text/html": [
       "<div>\n",
       "<style scoped>\n",
       "    .dataframe tbody tr th:only-of-type {\n",
       "        vertical-align: middle;\n",
       "    }\n",
       "\n",
       "    .dataframe tbody tr th {\n",
       "        vertical-align: top;\n",
       "    }\n",
       "\n",
       "    .dataframe thead th {\n",
       "        text-align: right;\n",
       "    }\n",
       "</style>\n",
       "<table border=\"1\" class=\"dataframe\">\n",
       "  <thead>\n",
       "    <tr style=\"text-align: right;\">\n",
       "      <th></th>\n",
       "      <th>ts</th>\n",
       "      <th>resolution</th>\n",
       "      <th>product</th>\n",
       "      <th>symbol</th>\n",
       "      <th>open</th>\n",
       "      <th>high</th>\n",
       "      <th>low</th>\n",
       "      <th>close</th>\n",
       "      <th>volume</th>\n",
       "      <th>dividends</th>\n",
       "      <th>splits</th>\n",
       "    </tr>\n",
       "  </thead>\n",
       "  <tbody>\n",
       "    <tr>\n",
       "      <th>0</th>\n",
       "      <td>2025-01-27 14:30:00</td>\n",
       "      <td>1m</td>\n",
       "      <td>TSLA_USD_STK</td>\n",
       "      <td>TSLA</td>\n",
       "      <td>394.532013</td>\n",
       "      <td>397.089996</td>\n",
       "      <td>393.53009</td>\n",
       "      <td>396.513306</td>\n",
       "      <td>6467196.0</td>\n",
       "      <td>0.0</td>\n",
       "      <td>0.0</td>\n",
       "    </tr>\n",
       "  </tbody>\n",
       "</table>\n",
       "</div>"
      ],
      "text/plain": [
       "                   ts resolution       product symbol        open        high  \\\n",
       "0 2025-01-27 14:30:00         1m  TSLA_USD_STK   TSLA  394.532013  397.089996   \n",
       "\n",
       "         low       close     volume  dividends  splits  \n",
       "0  393.53009  396.513306  6467196.0        0.0     0.0  "
      ]
     },
     "execution_count": 6,
     "metadata": {},
     "output_type": "execute_result"
    }
   ],
   "source": [
    "dask_df.compute().head(1)"
   ]
  },
  {
   "cell_type": "markdown",
   "metadata": {},
   "source": [
    "```{hint}\n",
    "If Ray appears to be running **sequentially rather than in parallel**, it may be due to **insufficient network bandwidth** for parallel downloads.\n",
    "```"
   ]
  }
 ],
 "metadata": {
  "kernelspec": {
   "display_name": "Python 3",
   "language": "python",
   "name": "python3"
  },
  "language_info": {
   "codemirror_mode": {
    "name": "ipython",
    "version": 3
   },
   "file_extension": ".py",
   "mimetype": "text/x-python",
   "name": "python",
   "nbconvert_exporter": "python",
   "pygments_lexer": "ipython3",
   "version": "3.11.10"
  }
 },
 "nbformat": 4,
 "nbformat_minor": 2
}
