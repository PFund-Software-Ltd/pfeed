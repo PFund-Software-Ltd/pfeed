{
 "cells": [
  {
   "cell_type": "markdown",
   "metadata": {},
   "source": [
    "# Integration with Delta Lake"
   ]
  },
  {
   "cell_type": "markdown",
   "metadata": {},
   "source": [
    "> Please refer to [Delta Lake](../concepts/delta_lake) if you don't know what Delta Lake is."
   ]
  },
  {
   "cell_type": "code",
   "execution_count": 1,
   "metadata": {},
   "outputs": [],
   "source": [
    "import pfeed as pe\n",
    "\n",
    "feed = pe.Bybit(use_deltalake=True)\n",
    "# prepare data definition\n",
    "product = 'BTC_USDT_PERP'\n",
    "date = '2025-02-01'\n",
    "resolution = '1tick'\n",
    "to_storage = 'local'"
   ]
  },
  {
   "cell_type": "markdown",
   "metadata": {},
   "source": [
    "## Download data"
   ]
  },
  {
   "cell_type": "code",
   "execution_count": 2,
   "metadata": {
    "tags": [
     "remove-output"
    ]
   },
   "outputs": [
    {
     "data": {
      "text/html": [
       "<pre style=\"white-space:pre;overflow-x:auto;line-height:normal;font-family:Menlo,'DejaVu Sans Mono',consolas,'Courier New',monospace\"><span style=\"color: #808000; text-decoration-color: #808000; font-weight: bold\">Downloading historical 1_TICK data from BYBIT, from </span><span style=\"color: #008080; text-decoration-color: #008080; font-weight: bold\">2025</span><span style=\"color: #808000; text-decoration-color: #808000; font-weight: bold\">-</span><span style=\"color: #008080; text-decoration-color: #008080; font-weight: bold\">02</span><span style=\"color: #808000; text-decoration-color: #808000; font-weight: bold\">-</span><span style=\"color: #008080; text-decoration-color: #008080; font-weight: bold\">01</span><span style=\"color: #808000; text-decoration-color: #808000; font-weight: bold\"> to </span><span style=\"color: #008080; text-decoration-color: #008080; font-weight: bold\">2025</span><span style=\"color: #808000; text-decoration-color: #808000; font-weight: bold\">-</span><span style=\"color: #008080; text-decoration-color: #008080; font-weight: bold\">02</span><span style=\"color: #808000; text-decoration-color: #808000; font-weight: bold\">-</span><span style=\"color: #008080; text-decoration-color: #008080; font-weight: bold\">01</span><span style=\"color: #808000; text-decoration-color: #808000; font-weight: bold\"> (UTC), </span><span style=\"color: #808000; text-decoration-color: #808000; font-weight: bold\">data_layer</span><span style=\"color: #808000; text-decoration-color: #808000; font-weight: bold\">=</span><span style=\"color: #008000; text-decoration-color: #008000\">'cleaned'</span>\n",
       "</pre>\n"
      ],
      "text/plain": [
       "\u001b[1;33mDownloading historical 1_TICK data from BYBIT, from \u001b[0m\u001b[1;36m2025\u001b[0m\u001b[1;33m-\u001b[0m\u001b[1;36m02\u001b[0m\u001b[1;33m-\u001b[0m\u001b[1;36m01\u001b[0m\u001b[1;33m to \u001b[0m\u001b[1;36m2025\u001b[0m\u001b[1;33m-\u001b[0m\u001b[1;36m02\u001b[0m\u001b[1;33m-\u001b[0m\u001b[1;36m01\u001b[0m\u001b[1;33m \u001b[0m\u001b[1;33m(\u001b[0m\u001b[1;33mUTC\u001b[0m\u001b[1;33m)\u001b[0m\u001b[1;33m, \u001b[0m\u001b[1;33mdata_layer\u001b[0m\u001b[1;33m=\u001b[0m\u001b[32m'cleaned'\u001b[0m\n"
      ]
     },
     "metadata": {},
     "output_type": "display_data"
    },
    {
     "name": "stderr",
     "output_type": "stream",
     "text": [
      "2025-02-02 23:55:26,968\tINFO worker.py:1841 -- Started a local Ray instance.\n",
      "Running BYBIT dataflows:   0%|\u001b[38;2;191;97;51m          \u001b[0m| 0/1 [00:00<?, ?it/s]2025-02-02T23:55:31+0800.649 | INFO | bybit_data | loaded BYBIT:2025-02-01:CRYPTO:BYBIT:BTC_USDT_PERP:1_TICK data to LOCAL | dataflow.py fn:_load ln:150\n",
      "Running BYBIT dataflows: 100%|\u001b[38;2;191;97;51m██████████\u001b[0m| 1/1 [00:04<00:00,  4.56s/it]\n"
     ]
    },
    {
     "data": {
      "text/html": [
       "<i>naive plan: (run <b>LazyFrame.explain(optimized=True)</b> to see the optimized plan)</i>\n",
       "    <p></p>\n",
       "    <div>DF [\"ts\", \"resolution\", \"product\", \"symbol\"]; PROJECT */12 COLUMNS</div>"
      ],
      "text/plain": [
       "<LazyFrame at 0x33BEE57D0>"
      ]
     },
     "execution_count": 2,
     "metadata": {},
     "output_type": "execute_result"
    }
   ],
   "source": [
    "feed.download(\n",
    "    product,\n",
    "    start_date=date,\n",
    "    end_date=date,\n",
    "    resolution=resolution,\n",
    "    to_storage=to_storage,\n",
    ")"
   ]
  },
  {
   "cell_type": "markdown",
   "metadata": {},
   "source": [
    "## Create storage object to get the file path"
   ]
  },
  {
   "cell_type": "code",
   "execution_count": 3,
   "metadata": {},
   "outputs": [],
   "source": [
    "storage = feed.create_storage(to_storage, product, resolution, date)"
   ]
  },
  {
   "cell_type": "markdown",
   "metadata": {},
   "source": [
    "## Read the Delta Table"
   ]
  },
  {
   "cell_type": "code",
   "execution_count": 4,
   "metadata": {},
   "outputs": [
    {
     "name": "stdout",
     "output_type": "stream",
     "text": [
      "Version: 1\n",
      "Files: ['part-00001-fe87dea1-6227-43e9-91d3-962c4a1d2b74-c000.snappy.parquet']\n"
     ]
    },
    {
     "data": {
      "text/plain": [
       "[{'timestamp': 1738511731638,\n",
       "  'operation': 'WRITE',\n",
       "  'operationParameters': {'mode': 'Overwrite'},\n",
       "  'operationMetrics': {'execution_time_ms': 324,\n",
       "   'num_added_files': 1,\n",
       "   'num_added_rows': 944614,\n",
       "   'num_partitions': 0,\n",
       "   'num_removed_files': 1},\n",
       "  'clientVersion': 'delta-rs.0.23.1',\n",
       "  'version': 1},\n",
       " {'timestamp': 1738511616001,\n",
       "  'operation': 'WRITE',\n",
       "  'operationParameters': {'mode': 'Overwrite'},\n",
       "  'clientVersion': 'delta-rs.0.23.1',\n",
       "  'operationMetrics': {'execution_time_ms': 329,\n",
       "   'num_added_files': 1,\n",
       "   'num_added_rows': 944614,\n",
       "   'num_partitions': 0,\n",
       "   'num_removed_files': 0},\n",
       "  'version': 0}]"
      ]
     },
     "execution_count": 4,
     "metadata": {},
     "output_type": "execute_result"
    }
   ],
   "source": [
    "from deltalake import DeltaTable\n",
    "\n",
    "dt = DeltaTable(storage.file_path)\n",
    "print(f\"Version: {dt.version()}\")\n",
    "print(f\"Files: {dt.files()}\")\n",
    "dt.history()"
   ]
  }
 ],
 "metadata": {
  "kernelspec": {
   "display_name": "Python 3",
   "language": "python",
   "name": "python3"
  },
  "language_info": {
   "codemirror_mode": {
    "name": "ipython",
    "version": 3
   },
   "file_extension": ".py",
   "mimetype": "text/x-python",
   "name": "python",
   "nbconvert_exporter": "python",
   "pygments_lexer": "ipython3",
   "version": "3.11.10"
  }
 },
 "nbformat": 4,
 "nbformat_minor": 2
}
