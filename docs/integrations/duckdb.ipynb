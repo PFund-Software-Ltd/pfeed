{
 "cells": [
  {
   "cell_type": "markdown",
   "metadata": {},
   "source": [
    "# Integrate with DuckDB"
   ]
  },
  {
   "cell_type": "markdown",
   "metadata": {},
   "source": [
    "reasons to use duckdb, rather than a data lake, \n",
    "e.g. SQL views, SQL queries, etc.\n",
    "example reading delta lake?\n"
   ]
  },
  {
   "cell_type": "code",
   "execution_count": null,
   "metadata": {},
   "outputs": [],
   "source": [
    "from pfeed.storages import DuckDBStorage\n",
    "\n",
    "import duckdb\n",
    "from pprint import pprint\n",
    "duckdb_files = DuckDBStorage.get_duckdb_files()\n",
    "pprint(duckdb_files)\n",
    "conn = duckdb.connect(str(duckdb_files[0]))\n",
    "\n",
    "# start ui\n",
    "conn.execute(\"CALL start_ui()\")"
   ]
  },
  {
   "cell_type": "code",
   "execution_count": null,
   "metadata": {},
   "outputs": [],
   "source": []
  }
 ],
 "metadata": {
  "kernelspec": {
   "display_name": "Python 3",
   "language": "python",
   "name": "python3"
  },
  "language_info": {
   "codemirror_mode": {
    "name": "ipython",
    "version": 3
   },
   "file_extension": ".py",
   "mimetype": "text/x-python",
   "name": "python",
   "nbconvert_exporter": "python",
   "pygments_lexer": "ipython3",
   "version": "3.11.10"
  }
 },
 "nbformat": 4,
 "nbformat_minor": 2
}
