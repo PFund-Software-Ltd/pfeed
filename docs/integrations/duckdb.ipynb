{
 "cells": [
  {
   "cell_type": "markdown",
   "metadata": {},
   "source": [
    "# Integrate with DuckDB"
   ]
  },
  {
   "cell_type": "markdown",
   "metadata": {},
   "source": [
    "reasons to use duckdb, rather than a data lake, \n",
    "e.g. SQL views, SQL queries, etc.\n",
    "example reading delta lake?\n"
   ]
  },
  {
   "cell_type": "code",
   "execution_count": null,
   "metadata": {},
   "outputs": [],
   "source": [
    "from pfeed.storages.duckdb_storage import DuckDBStorage\n",
    "\n",
    "import duckdb\n",
    "from pprint import pprint\n",
    "duckdb_files = DuckDBStorage.get_duckdb_files()\n",
    "pprint(duckdb_files)\n",
    "conn = duckdb.connect(str(duckdb_files[0]))\n"
   ]
  }
 ],
 "metadata": {
  "kernelspec": {
   "display_name": "Python 3",
   "language": "python",
   "name": "python3"
  },
  "language_info": {
   "name": "python",
   "version": "3.11.10"
  }
 },
 "nbformat": 4,
 "nbformat_minor": 2
}
