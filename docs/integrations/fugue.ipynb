{
 "cells": [
  {
   "cell_type": "markdown",
   "metadata": {},
   "source": [
    "# Integration with Fugue"
   ]
  },
  {
   "cell_type": "code",
   "execution_count": 1,
   "metadata": {
    "execution": {
     "iopub.execute_input": "2024-10-11T12:45:58.500377Z",
     "iopub.status.busy": "2024-10-11T12:45:58.500068Z",
     "iopub.status.idle": "2024-10-11T12:45:58.626229Z",
     "shell.execute_reply": "2024-10-11T12:45:58.625905Z"
    }
   },
   "outputs": [],
   "source": [
    "import pfeed as pe"
   ]
  }
 ],
 "metadata": {
  "kernelspec": {
   "display_name": "pfeed",
   "language": "python",
   "name": "python3"
  },
  "language_info": {
   "codemirror_mode": {
    "name": "ipython",
    "version": 3
   },
   "file_extension": ".py",
   "mimetype": "text/x-python",
   "name": "python",
   "nbconvert_exporter": "python",
   "pygments_lexer": "ipython3",
   "version": "3.11.7"
  }
 },
 "nbformat": 4,
 "nbformat_minor": 2
}
