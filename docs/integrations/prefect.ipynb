{
 "cells": [
  {
   "cell_type": "markdown",
   "metadata": {},
   "source": [
    "# Integrating with Prefect"
   ]
  },
  {
   "cell_type": "code",
   "execution_count": null,
   "metadata": {},
   "outputs": [],
   "source": [
    "import pfeed as pe"
   ]
  },
  {
   "cell_type": "markdown",
   "metadata": {},
   "source": [
    "```bash\n",
    "# start prefect server and open the dashboard in your browser at http://localhost:4200\n",
    "prefect server start\n",
    "```"
   ]
  },
  {
   "cell_type": "markdown",
   "metadata": {},
   "source": [
    "## Dataflow"
   ]
  },
  {
   "cell_type": "code",
   "execution_count": null,
   "metadata": {},
   "outputs": [],
   "source": [
    "feed = pe.Bybit(\n",
    "    use_prefect=True,  # this will use prefect's flow as dataflow\n",
    ")\n",
    "feed.download(\n",
    "    product='BTC_USDT_PERP',\n",
    "    resolution='1m',\n",
    "    start_date='2025-01-01',\n",
    "    end_date='2025-01-01',\n",
    ")"
   ]
  }
 ],
 "metadata": {
  "language_info": {
   "name": "python"
  }
 },
 "nbformat": 4,
 "nbformat_minor": 2
}
